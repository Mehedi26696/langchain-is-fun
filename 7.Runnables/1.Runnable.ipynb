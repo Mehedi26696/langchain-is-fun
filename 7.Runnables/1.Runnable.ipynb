{
  "nbformat": 4,
  "nbformat_minor": 0,
  "metadata": {
    "colab": {
      "provenance": []
    },
    "kernelspec": {
      "name": "python3",
      "display_name": "Python 3"
    },
    "language_info": {
      "name": "python"
    }
  },
  "cells": [
    {
      "cell_type": "code",
      "execution_count": 1,
      "metadata": {
        "id": "x3wSjk63J076"
      },
      "outputs": [],
      "source": [
        "import random"
      ]
    },
    {
      "cell_type": "code",
      "source": [
        "class FalseLLM:\n",
        "    def __init__(self):\n",
        "        print(\"LLM Created\")\n",
        "    def predict(self, prompt):\n",
        "\n",
        "         response_list = [\n",
        "            \"Artificial Intelligence is the simulation of human intelligence processes by machines, especially computer systems.\",\n",
        "            \"Machine Learning is a subset of AI that involves the use of algorithms and statistical models to perform specific tasks without using explicit instructions, relying on patterns and inference instead.\",\n",
        "            \"Deep Learning is a subset of machine learning that uses neural networks with many layers (deep networks) to analyze various types of data.\",\n",
        "            \"Natural Language Processing (NLP) is a field of AI that focuses on the interaction between computers and humans through natural language.\",\n",
        "         ]\n",
        "         return {\"response\" : random.choice(response_list)}"
      ],
      "metadata": {
        "id": "119HiorLJ3Nn"
      },
      "execution_count": 2,
      "outputs": []
    },
    {
      "cell_type": "code",
      "source": [
        "llm = FalseLLM()"
      ],
      "metadata": {
        "colab": {
          "base_uri": "https://localhost:8080/"
        },
        "id": "X70juRCnJ55D",
        "outputId": "84ed4d6c-1af7-4ac9-b5d6-300a6d995e63"
      },
      "execution_count": 3,
      "outputs": [
        {
          "output_type": "stream",
          "name": "stdout",
          "text": [
            "LLM Created\n"
          ]
        }
      ]
    },
    {
      "cell_type": "code",
      "source": [
        "llm.predict(\"What is Artificial Intelligence?\")"
      ],
      "metadata": {
        "colab": {
          "base_uri": "https://localhost:8080/"
        },
        "id": "9_hBkWhKJ7yN",
        "outputId": "509bc818-d4f4-45f8-e96f-25a44db9a681"
      },
      "execution_count": 4,
      "outputs": [
        {
          "output_type": "execute_result",
          "data": {
            "text/plain": [
              "{'response': 'Deep Learning is a subset of machine learning that uses neural networks with many layers (deep networks) to analyze various types of data.'}"
            ]
          },
          "metadata": {},
          "execution_count": 4
        }
      ]
    },
    {
      "cell_type": "code",
      "source": [
        "class FalsePromptTemplate:\n",
        "    def __init__(self, template, input_variables):\n",
        "        self.template = template\n",
        "        self.input_variables = input_variables\n",
        "\n",
        "    def format(self, input_dict):\n",
        "        # Check for missing variables\n",
        "        for var in self.input_variables:\n",
        "            if var not in input_dict:\n",
        "                raise ValueError(f\"Missing required variable: {var}\")\n",
        "\n",
        "        # Check for extra variables\n",
        "        for key in input_dict.keys():\n",
        "            if key not in self.input_variables:\n",
        "                raise ValueError(f\"Unexpected variable: {key}\")\n",
        "\n",
        "        return self.template.format(**input_dict)\n",
        "\n"
      ],
      "metadata": {
        "id": "09vF2aHxJ9ZP"
      },
      "execution_count": 12,
      "outputs": []
    },
    {
      "cell_type": "code",
      "source": [
        "template = FalsePromptTemplate(\n",
        "    template = \"Write about {topic} in {length}\",\n",
        "    input_variables = [\"length\",\"topic\"]\n",
        ")"
      ],
      "metadata": {
        "id": "LVJPI0x9KS9R"
      },
      "execution_count": 15,
      "outputs": []
    },
    {
      "cell_type": "code",
      "source": [
        "template.format({\n",
        "    \"length\" : \"short\",\n",
        "    \"topic\" : \"Artificial Intelligence\"\n",
        "})"
      ],
      "metadata": {
        "colab": {
          "base_uri": "https://localhost:8080/",
          "height": 35
        },
        "id": "-fdIeeYDKsdC",
        "outputId": "728c784a-2eeb-49ab-b20c-6840d92aa9a8"
      },
      "execution_count": 16,
      "outputs": [
        {
          "output_type": "execute_result",
          "data": {
            "text/plain": [
              "'Write about Artificial Intelligence in short'"
            ],
            "application/vnd.google.colaboratory.intrinsic+json": {
              "type": "string"
            }
          },
          "metadata": {},
          "execution_count": 16
        }
      ]
    },
    {
      "cell_type": "code",
      "source": [
        "prompt = template.format({\n",
        "    \"length\" : \"short\",\n",
        "    \"topic\" : \"Artificial Intelligence\"\n",
        "})"
      ],
      "metadata": {
        "id": "P-Zp0KDQLK-i"
      },
      "execution_count": 17,
      "outputs": []
    },
    {
      "cell_type": "code",
      "source": [
        "llm.predict(prompt)"
      ],
      "metadata": {
        "colab": {
          "base_uri": "https://localhost:8080/"
        },
        "id": "hge16Hz5L4NP",
        "outputId": "3cb752a3-fb37-4317-d55d-8fa6c5f244e2"
      },
      "execution_count": 18,
      "outputs": [
        {
          "output_type": "execute_result",
          "data": {
            "text/plain": [
              "{'response': 'Deep Learning is a subset of machine learning that uses neural networks with many layers (deep networks) to analyze various types of data.'}"
            ]
          },
          "metadata": {},
          "execution_count": 18
        }
      ]
    },
    {
      "cell_type": "code",
      "source": [],
      "metadata": {
        "id": "rn0SghhaL9ql"
      },
      "execution_count": null,
      "outputs": []
    }
  ]
}