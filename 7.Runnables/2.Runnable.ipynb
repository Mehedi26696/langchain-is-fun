{
  "nbformat": 4,
  "nbformat_minor": 0,
  "metadata": {
    "colab": {
      "provenance": []
    },
    "kernelspec": {
      "name": "python3",
      "display_name": "Python 3"
    },
    "language_info": {
      "name": "python"
    }
  },
  "cells": [
    {
      "cell_type": "code",
      "execution_count": 59,
      "metadata": {
        "id": "LQmUOX5jMKYL"
      },
      "outputs": [],
      "source": [
        "from abc import ABC, abstractmethod"
      ]
    },
    {
      "cell_type": "code",
      "source": [
        "class Runnable(ABC):\n",
        "\n",
        "  @abstractmethod\n",
        "  def invoke(input_data):\n",
        "    pass"
      ],
      "metadata": {
        "id": "PC7h9H-sMLK_"
      },
      "execution_count": 60,
      "outputs": []
    },
    {
      "cell_type": "code",
      "source": [
        "import random"
      ],
      "metadata": {
        "id": "c4ihGEBVMQ_P"
      },
      "execution_count": 61,
      "outputs": []
    },
    {
      "cell_type": "code",
      "source": [
        "\n",
        "\n",
        "class FalseLLM(Runnable):\n",
        "\n",
        "  def __init__(self):\n",
        "    print('LLM created')\n",
        "\n",
        "  def invoke(self, prompt):\n",
        "    response_list = [\n",
        "            \"Artificial Intelligence is the simulation of human intelligence processes by machines, especially computer systems.\",\n",
        "            \"Machine Learning is a subset of AI that involves the use of algorithms and statistical models to perform specific tasks without using explicit instructions, relying on patterns and inference instead.\",\n",
        "            \"Deep Learning is a subset of machine learning that uses neural networks with many layers (deep networks) to analyze various types of data.\",\n",
        "            \"Natural Language Processing (NLP) is a field of AI that focuses on the interaction between computers and humans through natural language.\",\n",
        "    ]\n",
        "\n",
        "    return {'response': random.choice(response_list)}\n",
        "\n",
        "\n",
        "  def predict(self, prompt):\n",
        "\n",
        "    response_list = [\n",
        "            \"Artificial Intelligence is the simulation of human intelligence processes by machines, especially computer systems.\",\n",
        "            \"Machine Learning is a subset of AI that involves the use of algorithms and statistical models to perform specific tasks without using explicit instructions, relying on patterns and inference instead.\",\n",
        "            \"Deep Learning is a subset of machine learning that uses neural networks with many layers (deep networks) to analyze various types of data.\",\n",
        "            \"Natural Language Processing (NLP) is a field of AI that focuses on the interaction between computers and humans through natural language.\",\n",
        "      ]\n",
        "\n",
        "    return {'response': random.choice(response_list)}"
      ],
      "metadata": {
        "id": "0PpYWy3JMNS0"
      },
      "execution_count": 62,
      "outputs": []
    },
    {
      "cell_type": "code",
      "source": [
        "class FalsePromptTemplate(Runnable):\n",
        "\n",
        "  def __init__(self, template, input_variables):\n",
        "    self.template = template\n",
        "    self.input_variables = input_variables\n",
        "\n",
        "  def invoke(self, input_dict):\n",
        "    return self.template.format(**input_dict)\n",
        "\n",
        "  def format(self, input_dict):\n",
        "    return self.template.format(**input_dict)"
      ],
      "metadata": {
        "id": "0J4XMYozMe6t"
      },
      "execution_count": 63,
      "outputs": []
    },
    {
      "cell_type": "code",
      "source": [
        "class FalseStrOutputParser(Runnable):\n",
        "\n",
        "    def __init__(self):\n",
        "        pass\n",
        "\n",
        "    def invoke(self, input_data):\n",
        "        # Expecting {'response': ...}\n",
        "        if isinstance(input_data, dict) and 'response' in input_data:\n",
        "            return input_data['response']\n",
        "        return input_data"
      ],
      "metadata": {
        "id": "f-V7yjTgMqAk"
      },
      "execution_count": 64,
      "outputs": []
    },
    {
      "cell_type": "code",
      "source": [
        "class RunnableConnector(Runnable):\n",
        "\n",
        "    def __init__(self, runnable_list):\n",
        "        self.runnable_list = runnable_list\n",
        "\n",
        "    def invoke(self, input_data):\n",
        "        for runnable in self.runnable_list:\n",
        "            # Auto-handle conversion between incompatible components\n",
        "            if isinstance(runnable, FalsePromptTemplate) and not isinstance(input_data, dict):\n",
        "                # Wrap the previous string output into dict for next prompt\n",
        "                input_data = {\"response\": input_data}\n",
        "            input_data = runnable.invoke(input_data)\n",
        "        return input_data\n"
      ],
      "metadata": {
        "id": "6wx7J_4nMuny"
      },
      "execution_count": 65,
      "outputs": []
    },
    {
      "cell_type": "code",
      "source": [
        "template = FalsePromptTemplate(\n",
        "    template='Write a {length} poem about {topic}',\n",
        "    input_variables=['length', 'topic']\n",
        ")"
      ],
      "metadata": {
        "id": "bO7wDbXeMxSy"
      },
      "execution_count": 66,
      "outputs": []
    },
    {
      "cell_type": "code",
      "source": [
        "llm = FalseLLM()"
      ],
      "metadata": {
        "colab": {
          "base_uri": "https://localhost:8080/"
        },
        "id": "yQooVQ35M2Gm",
        "outputId": "daf29f90-35bc-4413-d12c-c4df72e07625"
      },
      "execution_count": 67,
      "outputs": [
        {
          "output_type": "stream",
          "name": "stdout",
          "text": [
            "LLM created\n"
          ]
        }
      ]
    },
    {
      "cell_type": "code",
      "source": [
        "parser = FalseStrOutputParser()"
      ],
      "metadata": {
        "id": "vW5ekL9gNWxs"
      },
      "execution_count": 68,
      "outputs": []
    },
    {
      "cell_type": "code",
      "source": [
        "chain = RunnableConnector([template, llm, parser])"
      ],
      "metadata": {
        "id": "vz2EtISpNdKF"
      },
      "execution_count": 69,
      "outputs": []
    },
    {
      "cell_type": "code",
      "source": [
        "chain.invoke({'length': 'a short', 'topic': 'dogs'})"
      ],
      "metadata": {
        "colab": {
          "base_uri": "https://localhost:8080/",
          "height": 35
        },
        "id": "P5eb5pa_NibA",
        "outputId": "a029494c-8366-4bed-bf3d-6d026943245d"
      },
      "execution_count": 70,
      "outputs": [
        {
          "output_type": "execute_result",
          "data": {
            "text/plain": [
              "'Deep Learning is a subset of machine learning that uses neural networks with many layers (deep networks) to analyze various types of data.'"
            ],
            "application/vnd.google.colaboratory.intrinsic+json": {
              "type": "string"
            }
          },
          "metadata": {},
          "execution_count": 70
        }
      ]
    },
    {
      "cell_type": "code",
      "source": [
        "template1 = FalsePromptTemplate(\n",
        "    template='Write a joke about {topic}',\n",
        "    input_variables=['topic']\n",
        ")"
      ],
      "metadata": {
        "id": "z3UwzL1WNlDq"
      },
      "execution_count": 71,
      "outputs": []
    },
    {
      "cell_type": "code",
      "source": [
        "template2 = FalsePromptTemplate(\n",
        "    template='Explain the following joke {response}',\n",
        "    input_variables=['response']\n",
        ")"
      ],
      "metadata": {
        "id": "MVEACkraNpHj"
      },
      "execution_count": 72,
      "outputs": []
    },
    {
      "cell_type": "code",
      "source": [
        "llm = FalseLLM()"
      ],
      "metadata": {
        "colab": {
          "base_uri": "https://localhost:8080/"
        },
        "id": "T7PqW-zGNv51",
        "outputId": "6aba3f82-e12e-49d4-f891-560a8acc0d85"
      },
      "execution_count": 73,
      "outputs": [
        {
          "output_type": "stream",
          "name": "stdout",
          "text": [
            "LLM created\n"
          ]
        }
      ]
    },
    {
      "cell_type": "code",
      "source": [
        "parser = FalseStrOutputParser()"
      ],
      "metadata": {
        "id": "NjBnLk5SNz1x"
      },
      "execution_count": 74,
      "outputs": []
    },
    {
      "cell_type": "code",
      "source": [
        "chain1 = RunnableConnector([template1, llm, parser])"
      ],
      "metadata": {
        "id": "WrPYTq2zN4bY"
      },
      "execution_count": 75,
      "outputs": []
    },
    {
      "cell_type": "code",
      "source": [
        "chain2 = RunnableConnector([template2, llm, parser])"
      ],
      "metadata": {
        "id": "KQMkB_GpN6j9"
      },
      "execution_count": 76,
      "outputs": []
    },
    {
      "cell_type": "code",
      "source": [
        "final_chain = RunnableConnector([chain1, chain2])"
      ],
      "metadata": {
        "id": "lQQETy7jN8xk"
      },
      "execution_count": 77,
      "outputs": []
    },
    {
      "cell_type": "code",
      "source": [
        "final_chain.invoke({\"topic\": \"AI\"})"
      ],
      "metadata": {
        "colab": {
          "base_uri": "https://localhost:8080/",
          "height": 35
        },
        "id": "5HANzv65OAvw",
        "outputId": "fd4d2bdc-4d95-404a-ec2e-f398e0fca829"
      },
      "execution_count": 78,
      "outputs": [
        {
          "output_type": "execute_result",
          "data": {
            "text/plain": [
              "'Deep Learning is a subset of machine learning that uses neural networks with many layers (deep networks) to analyze various types of data.'"
            ],
            "application/vnd.google.colaboratory.intrinsic+json": {
              "type": "string"
            }
          },
          "metadata": {},
          "execution_count": 78
        }
      ]
    }
  ]
}