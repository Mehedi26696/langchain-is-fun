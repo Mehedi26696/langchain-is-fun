{
  "cells": [
    {
      "cell_type": "markdown",
      "metadata": {},
      "source": [
        "# Wikipedia Retriever (LangChain)\n",
        "\n",
        "Purpose: demo using the `WikipediaRetriever` from `langchain_community` to fetch relevant Wikipedia passages for a query. This notebook shows English and Bengali examples.\n",
        "\n",
        "Overview:\n",
        "- Install dependencies (first cell).  \n",
        "- Set your API keys (if using Google/other services).  \n",
        "- Initialize the retriever, run queries, and inspect results."
      ]
    },
    {
      "cell_type": "code",
      "execution_count": null,
      "metadata": {
        "colab": {
          "base_uri": "https://localhost:8080/"
        },
        "id": "DJf_drKTNhrF",
        "outputId": "dd27b8f0-108c-49da-cbbc-58f6a745b092"
      },
      "outputs": [],
      "source": [
        "!pip install langchain chromadb openai tiktoken pypdf langchain_google_genai langchain-community wikipedia"
      ]
    },
    {
      "cell_type": "code",
      "execution_count": 35,
      "metadata": {
        "id": "PH-WTerePXmm"
      },
      "outputs": [],
      "source": [
        "from langchain_community.retrievers import WikipediaRetriever"
      ]
    },
    {
      "cell_type": "markdown",
      "metadata": {},
      "source": [
        "## Imports & Retriever initialization\n",
        "\n",
        "Below we import `WikipediaRetriever` and create an instance. You can set `top_k_results` and `lang` (language code) to control results."
      ]
    },
    {
      "cell_type": "markdown",
      "metadata": {},
      "source": [
        "## English example\n",
        "\n",
        "Create an English retriever and query for an English topic. Inspect the returned documents and use them downstream (e.g., summarization, citation)."
      ]
    },
    {
      "cell_type": "code",
      "execution_count": 36,
      "metadata": {
        "id": "MF2D5AYlQnsQ"
      },
      "outputs": [],
      "source": [
        "# Initialize the retriever (optional: set language and top_k)\n",
        "retriever = WikipediaRetriever(top_k_results=2, lang=\"en\")"
      ]
    },
    {
      "cell_type": "code",
      "execution_count": 37,
      "metadata": {
        "id": "RJXJ415wPaZP"
      },
      "outputs": [],
      "source": [
        "# Define your query\n",
        "query = \"Tell me about Calciopoli Scandal\""
      ]
    },
    {
      "cell_type": "code",
      "execution_count": 38,
      "metadata": {
        "id": "veZ8_4WDPz7k"
      },
      "outputs": [],
      "source": [
        "# Get relevant Wikipedia documents\n",
        "docs = retriever.invoke(query)"
      ]
    },
    {
      "cell_type": "code",
      "execution_count": 39,
      "metadata": {
        "colab": {
          "base_uri": "https://localhost:8080/"
        },
        "id": "cpjU9mo5P3FR",
        "outputId": "f8c5d356-d3a2-402f-8fe8-458238674f36"
      },
      "outputs": [
        {
          "data": {
            "text/plain": [
              "[Document(metadata={'title': 'Calciopoli', 'summary': \"Calciopoli (Italian: [kalˈtʃɔːpoli]) was a sports scandal in Italy's top professional association football league Serie A, and to a lesser extent, Serie B. The scandal centered on the manipulation of referee appointments to favor certain clubs during the 2004-05 and 2005-06 seasons. It was uncovered in May 2006, when a number of telephone tappings showed relations between clubs' executives and referee organizations, being accused of selecting favourable referees. This implicated league champions Juventus and several other clubs, including Fiorentina, Lazio, AC Milan, and Reggina. In July 2006, Juventus was stripped of the 2004–05 Serie A title, which was left unassigned, and was downgraded to last place in the 2005–06 Serie A, as the title was subsequently awarded to Inter Milan, and relegated to Serie B. Initially Fiorentina and Lazio were also relegated though this was later overturned on appeal, meanwhile all five clubs received points penalties for the following season. In July 2006, the Italy national football team won the 2006 FIFA World Cup, beating the France national football team 5–3 in a penalty shoot-out following a 1–1 draw at the conclusion of extra time; eight Juventus players were on the football pitch in the 2006 FIFA World Cup final, five for Italy and three for France. Many prison sentences were handed out to sporting directors and referees but all were acquitted in 2015, after almost a decade of investigation, due to the expiration of the statute of limitations (at the time, it was about 4 years for the sports trial and 7.5 years for the ordinary trial), except for a one-year sentence confirmed to referee Massimo De Santis.\\nA subsequent investigation, dubbed Calciopoli bis, implicated many other clubs, including Brescia, Cagliari, ChievoVerona, Empoli, Inter Milan, Palermo, Udinese, and Vicenza; they were not put on trial due the statute of limitations. Although popularly known as a match-fixing scandal and focused on Juventus, no match-fixing violations were found within the intercepted calls for Juventus, there were no requests for specific referees, no demands for favours, no conversations between Juventus directors and referees were found, and the season was deemed fair and legitimate. The club was absolved from any wrongdoings in the first verdict, while its sporting executives Luciano Moggi and Antonio Giraudo were found guilty and banned for life six months before their previous five-year ban expired; they were absolved on charges related to sporting fraud, and appealed to the European Court of Human Rights, once they exhausted their appeals in Italy's courts. Other club executives were found guilty but did not receive lifetime bans and returned to their previous or new positions, among them Milan vice-president Adriano Galliani and Lazio president Claudio Lotito, both of whom retained or gained important positions in Lega Serie A. Most referees and their assistants were either found not guilty or had their sentences annulled due to the statute of limitations; only Massimo De Santis and Salvatore Racalbuto were convicted.\\nItaly's Court of Appeal rejected damage claims from Atalanta, Bologna, Brescia, and Lecce due to the fact that no match in the 2004–05 championship was altered by non-football episodes. This led Juventus to request €444 million in damage claims, later updated to €551 million, to both Inter Milan and the FIGC, restoration of the 2005 scudetto, and the officialization of the 2006 scudetto; all its appeals were either rejected due to the courts declaring themselves not competent or due to technical issues rather than juridical issues. Attempts for peace talks between Juventus, the FIGC, and other clubs did not improve relations, and the case remains much debated and controversial. Juventus returned to Serie A after winning the 2006–07 Serie B championship and in the UEFA Champions League the following two years but then struggled with two consecutive seventh places, before starting a record nine-consecutive league titles run, two Champions League finals, and four consecutive domestic doubles. Milan won the 2006–07 UEFA Champions League but only won the 2010–11 Serie A championship and struggled throughout the 2010s until winning the 2021–22 Serie A. Inter Milan started a cycle of five-consecutive league titles, culminating in the treble with the 2009–10 UEFA Champions League win but then struggled throughout the 2010s, with Napoli and Roma as Juventus' main rivals, until winning the 2020–21 Serie A during the COVID-19 pandemic in Italy and 2023–24 Serie A. In April 2021, all three clubs found themselves united in the European Super League project. The most recent league winner outside the three of them is Napoli in 2023 and 2025.\", 'source': 'https://en.wikipedia.org/wiki/Calciopoli'}, page_content=\"Calciopoli (Italian: [kalˈtʃɔːpoli]) was a sports scandal in Italy's top professional association football league Serie A, and to a lesser extent, Serie B. The scandal centered on the manipulation of referee appointments to favor certain clubs during the 2004-05 and 2005-06 seasons. It was uncovered in May 2006, when a number of telephone tappings showed relations between clubs' executives and referee organizations, being accused of selecting favourable referees. This implicated league champions Juventus and several other clubs, including Fiorentina, Lazio, AC Milan, and Reggina. In July 2006, Juventus was stripped of the 2004–05 Serie A title, which was left unassigned, and was downgraded to last place in the 2005–06 Serie A, as the title was subsequently awarded to Inter Milan, and relegated to Serie B. Initially Fiorentina and Lazio were also relegated though this was later overturned on appeal, meanwhile all five clubs received points penalties for the following season. In July 2006, the Italy national football team won the 2006 FIFA World Cup, beating the France national football team 5–3 in a penalty shoot-out following a 1–1 draw at the conclusion of extra time; eight Juventus players were on the football pitch in the 2006 FIFA World Cup final, five for Italy and three for France. Many prison sentences were handed out to sporting directors and referees but all were acquitted in 2015, after almost a decade of investigation, due to the expiration of the statute of limitations (at the time, it was about 4 years for the sports trial and 7.5 years for the ordinary trial), except for a one-year sentence confirmed to referee Massimo De Santis.\\nA subsequent investigation, dubbed Calciopoli bis, implicated many other clubs, including Brescia, Cagliari, ChievoVerona, Empoli, Inter Milan, Palermo, Udinese, and Vicenza; they were not put on trial due the statute of limitations. Although popularly known as a match-fixing scandal and focused on Juventus, no match-fixing violations were found within the intercepted calls for Juventus, there were no requests for specific referees, no demands for favours, no conversations between Juventus directors and referees were found, and the season was deemed fair and legitimate. The club was absolved from any wrongdoings in the first verdict, while its sporting executives Luciano Moggi and Antonio Giraudo were found guilty and banned for life six months before their previous five-year ban expired; they were absolved on charges related to sporting fraud, and appealed to the European Court of Human Rights, once they exhausted their appeals in Italy's courts. Other club executives were found guilty but did not receive lifetime bans and returned to their previous or new positions, among them Milan vice-president Adriano Galliani and Lazio president Claudio Lotito, both of whom retained or gained important positions in Lega Serie A. Most referees and their assistants were either found not guilty or had their sentences annulled due to the statute of limitations; only Massimo De Santis and Salvatore Racalbuto were convicted.\\nItaly's Court of Appeal rejected damage claims from Atalanta, Bologna, Brescia, and Lecce due to the fact that no match in the 2004–05 championship was altered by non-football episodes. This led Juventus to request €444 million in damage claims, later updated to €551 million, to both Inter Milan and the FIGC, restoration of the 2005 scudetto, and the officialization of the 2006 scudetto; all its appeals were either rejected due to the courts declaring themselves not competent or due to technical issues rather than juridical issues. Attempts for peace talks between Juventus, the FIGC, and other clubs did not improve relations, and the case remains much debated and controversial. Juventus returned to Serie A after winning the 2006–07 Serie B championship and in the UEFA Champions League the following two years but then struggled with two consecutive seventh places, before starting a r\"),\n",
              " Document(metadata={'title': 'Luciano Moggi', 'summary': \"Luciano Moggi (Italian pronunciation: [luˈtʃaːno ˈmɔddʒi]; born 10 July 1937) is a former Italian association football administrator who was a club executive for Roma, Lazio, Torino, Napoli, and Juventus. During his career, he led them to win six Serie A (five with Juventus and one with Naples), three Coppa Italia (with Roma, Torino, and Juventus), five Supercoppa Italiana (four with Juventus and one with Napoli), one UEFA Champions League, one Intercontinental Cup, one UEFA Super Cup, one Intertoto Cup (all with Juventus), and one UEFA Cup (with Napoli). He has since become a freelance journalist, commentator, and TV guest.\\nIn May 2006, Moggi was involved in the sports scandal that became known as Calciopoli, which remains a much debated and controversial topic due to the one-sided focus on Juventus and Moggi, an issue that was cited in the sentence of the first-instance trial held in Naples. The related Calciopoli trials in Naples, which revealed the implications of many other clubs who could not be put on trial due to the statute of limitations and were not weighted in the Moggi sentences, absolved him of some related offences and reached the appeal sentence in December 2013 with a sentence of 2 years and 4 months in prison. The appeal sentence and his remaining charges related to Calciopoli were respectively annulled and cancelled without a new trial due to the statute of limitations by Italy's Supreme Court of Cassation in March 2015. On the other hand, he was acquitted of criminal conspiracy throughout all three judgements in the other Calciopoli trial in Rome related to GEA World that ended in January 2014. In March 2020, Moggi appealed to the European Court of Human Rights for the conduct of the trials.\", 'source': 'https://en.wikipedia.org/wiki/Luciano_Moggi'}, page_content=\"Luciano Moggi (Italian pronunciation: [luˈtʃaːno ˈmɔddʒi]; born 10 July 1937) is a former Italian association football administrator who was a club executive for Roma, Lazio, Torino, Napoli, and Juventus. During his career, he led them to win six Serie A (five with Juventus and one with Naples), three Coppa Italia (with Roma, Torino, and Juventus), five Supercoppa Italiana (four with Juventus and one with Napoli), one UEFA Champions League, one Intercontinental Cup, one UEFA Super Cup, one Intertoto Cup (all with Juventus), and one UEFA Cup (with Napoli). He has since become a freelance journalist, commentator, and TV guest.\\nIn May 2006, Moggi was involved in the sports scandal that became known as Calciopoli, which remains a much debated and controversial topic due to the one-sided focus on Juventus and Moggi, an issue that was cited in the sentence of the first-instance trial held in Naples. The related Calciopoli trials in Naples, which revealed the implications of many other clubs who could not be put on trial due to the statute of limitations and were not weighted in the Moggi sentences, absolved him of some related offences and reached the appeal sentence in December 2013 with a sentence of 2 years and 4 months in prison. The appeal sentence and his remaining charges related to Calciopoli were respectively annulled and cancelled without a new trial due to the statute of limitations by Italy's Supreme Court of Cassation in March 2015. On the other hand, he was acquitted of criminal conspiracy throughout all three judgements in the other Calciopoli trial in Rome related to GEA World that ended in January 2014. In March 2020, Moggi appealed to the European Court of Human Rights for the conduct of the trials.\\n\\n\\n== Biography ==\\nMoggi was born into a modest family in Monticiano, in the province of Siena, on 10 July 1937. He had a passion for football from an early age, playing for forty days in Akragas in the 1963–64 Serie C season. He left school at the age of 13. After middle school, he worked at the Ferrovie dello Stato Italiane, settling in Civitavecchia and playing as a stopper in teams of lower categories. In the late 1960s, dissatisfied with his work and tired of playing football without income, Moggi envisioned a future as a talent scout, particularly in minor football. His son, Alessandro Moggi, works as an agent for several football players and managers. He is head of GEA World, a consortium of football agents and managers, which was ranked first by volume (in terms of market share within Italy's football agency industry) from 2002 to 2006.\\n\\n\\n== Career ==\\nMoggi worked as a railway station caretaker until the early 1970s, when he met Italo Allodi, then Juventus' managing director, who appointed him to minor roles at the club. Before being called as chief managing director by Juventus in 1994, he worked for and collaborated with several teams, such as Roma, Lazio, Torino, and Napoli, where he won several league, domestic, and confederal titles.\\n\\n\\n=== Juventus and Roma ===\\nAfter entering senior football in the 1970s for Juventus under general manager Allodi, Moggi organized a network of scouts looking for young talent in suburban fields. Among his footballers are the sixteen year old Paolo Rossi in 1972, Claudio Gentile in 1973, and Gaetano Scirea in 1974. A few years later, Moggi took on a more important role, and he also established contacts with the other teams to start negotiations until he was forced to change companies due to the break with then-Juventus president Giampiero Boniperti.\\nMoggi's next job was at Roma of the new president Gaetano Anzalone. Thanks to the help of some journalists, it was Moggi who came forward and got to know Anzalone, who decided on his job as transfer market consultant in 1977. During his period at Roma, which won the 1979–80 Coppa Italia, Moggi acquired Roberto Pruzzo, who was blown right to Boniperti's Juventus. His departure from Roma occurred a few days after Dino Viola, the new pr\")]"
            ]
          },
          "execution_count": 39,
          "metadata": {},
          "output_type": "execute_result"
        }
      ],
      "source": [
        "docs"
      ]
    },
    {
      "cell_type": "code",
      "execution_count": 40,
      "metadata": {
        "colab": {
          "base_uri": "https://localhost:8080/"
        },
        "id": "qaJshEbrP5eH",
        "outputId": "21629904-9f03-4de1-fe4c-c20ac1a31176"
      },
      "outputs": [
        {
          "name": "stdout",
          "output_type": "stream",
          "text": [
            "\n",
            "--- Result 1 ---\n",
            "Content:\n",
            "Calciopoli (Italian: [kalˈtʃɔːpoli]) was a sports scandal in Italy's top professional association football league Serie A, and to a lesser extent, Serie B. The scandal centered on the manipulation of referee appointments to favor certain clubs during the 2004-05 and 2005-06 seasons. It was uncovered in May 2006, when a number of telephone tappings showed relations between clubs' executives and referee organizations, being accused of selecting favourable referees. This implicated league champions Juventus and several other clubs, including Fiorentina, Lazio, AC Milan, and Reggina. In July 2006, Juventus was stripped of the 2004–05 Serie A title, which was left unassigned, and was downgraded to last place in the 2005–06 Serie A, as the title was subsequently awarded to Inter Milan, and relegated to Serie B. Initially Fiorentina and Lazio were also relegated though this was later overturned on appeal, meanwhile all five clubs received points penalties for the following season. In July 2006, the Italy national football team won the 2006 FIFA World Cup, beating the France national football team 5–3 in a penalty shoot-out following a 1–1 draw at the conclusion of extra time; eight Juventus players were on the football pitch in the 2006 FIFA World Cup final, five for Italy and three for France. Many prison sentences were handed out to sporting directors and referees but all were acquitted in 2015, after almost a decade of investigation, due to the expiration of the statute of limitations (at the time, it was about 4 years for the sports trial and 7.5 years for the ordinary trial), except for a one-year sentence confirmed to referee Massimo De Santis.\n",
            "A subsequent investigation, dubbed Calciopoli bis, implicated many other clubs, including Brescia, Cagliari, ChievoVerona, Empoli, Inter Milan, Palermo, Udinese, and Vicenza; they were not put on trial due the statute of limitations. Although popularly known as a match-fixing scandal and focused on Juventus, no match-fixing violations were found within the intercepted calls for Juventus, there were no requests for specific referees, no demands for favours, no conversations between Juventus directors and referees were found, and the season was deemed fair and legitimate. The club was absolved from any wrongdoings in the first verdict, while its sporting executives Luciano Moggi and Antonio Giraudo were found guilty and banned for life six months before their previous five-year ban expired; they were absolved on charges related to sporting fraud, and appealed to the European Court of Human Rights, once they exhausted their appeals in Italy's courts. Other club executives were found guilty but did not receive lifetime bans and returned to their previous or new positions, among them Milan vice-president Adriano Galliani and Lazio president Claudio Lotito, both of whom retained or gained important positions in Lega Serie A. Most referees and their assistants were either found not guilty or had their sentences annulled due to the statute of limitations; only Massimo De Santis and Salvatore Racalbuto were convicted.\n",
            "Italy's Court of Appeal rejected damage claims from Atalanta, Bologna, Brescia, and Lecce due to the fact that no match in the 2004–05 championship was altered by non-football episodes. This led Juventus to request €444 million in damage claims, later updated to €551 million, to both Inter Milan and the FIGC, restoration of the 2005 scudetto, and the officialization of the 2006 scudetto; all its appeals were either rejected due to the courts declaring themselves not competent or due to technical issues rather than juridical issues. Attempts for peace talks between Juventus, the FIGC, and other clubs did not improve relations, and the case remains much debated and controversial. Juventus returned to Serie A after winning the 2006–07 Serie B championship and in the UEFA Champions League the following two years but then struggled with two consecutive seventh places, before starting a r...\n",
            "\n",
            "--- Result 2 ---\n",
            "Content:\n",
            "Luciano Moggi (Italian pronunciation: [luˈtʃaːno ˈmɔddʒi]; born 10 July 1937) is a former Italian association football administrator who was a club executive for Roma, Lazio, Torino, Napoli, and Juventus. During his career, he led them to win six Serie A (five with Juventus and one with Naples), three Coppa Italia (with Roma, Torino, and Juventus), five Supercoppa Italiana (four with Juventus and one with Napoli), one UEFA Champions League, one Intercontinental Cup, one UEFA Super Cup, one Intertoto Cup (all with Juventus), and one UEFA Cup (with Napoli). He has since become a freelance journalist, commentator, and TV guest.\n",
            "In May 2006, Moggi was involved in the sports scandal that became known as Calciopoli, which remains a much debated and controversial topic due to the one-sided focus on Juventus and Moggi, an issue that was cited in the sentence of the first-instance trial held in Naples. The related Calciopoli trials in Naples, which revealed the implications of many other clubs who could not be put on trial due to the statute of limitations and were not weighted in the Moggi sentences, absolved him of some related offences and reached the appeal sentence in December 2013 with a sentence of 2 years and 4 months in prison. The appeal sentence and his remaining charges related to Calciopoli were respectively annulled and cancelled without a new trial due to the statute of limitations by Italy's Supreme Court of Cassation in March 2015. On the other hand, he was acquitted of criminal conspiracy throughout all three judgements in the other Calciopoli trial in Rome related to GEA World that ended in January 2014. In March 2020, Moggi appealed to the European Court of Human Rights for the conduct of the trials.\n",
            "\n",
            "\n",
            "== Biography ==\n",
            "Moggi was born into a modest family in Monticiano, in the province of Siena, on 10 July 1937. He had a passion for football from an early age, playing for forty days in Akragas in the 1963–64 Serie C season. He left school at the age of 13. After middle school, he worked at the Ferrovie dello Stato Italiane, settling in Civitavecchia and playing as a stopper in teams of lower categories. In the late 1960s, dissatisfied with his work and tired of playing football without income, Moggi envisioned a future as a talent scout, particularly in minor football. His son, Alessandro Moggi, works as an agent for several football players and managers. He is head of GEA World, a consortium of football agents and managers, which was ranked first by volume (in terms of market share within Italy's football agency industry) from 2002 to 2006.\n",
            "\n",
            "\n",
            "== Career ==\n",
            "Moggi worked as a railway station caretaker until the early 1970s, when he met Italo Allodi, then Juventus' managing director, who appointed him to minor roles at the club. Before being called as chief managing director by Juventus in 1994, he worked for and collaborated with several teams, such as Roma, Lazio, Torino, and Napoli, where he won several league, domestic, and confederal titles.\n",
            "\n",
            "\n",
            "=== Juventus and Roma ===\n",
            "After entering senior football in the 1970s for Juventus under general manager Allodi, Moggi organized a network of scouts looking for young talent in suburban fields. Among his footballers are the sixteen year old Paolo Rossi in 1972, Claudio Gentile in 1973, and Gaetano Scirea in 1974. A few years later, Moggi took on a more important role, and he also established contacts with the other teams to start negotiations until he was forced to change companies due to the break with then-Juventus president Giampiero Boniperti.\n",
            "Moggi's next job was at Roma of the new president Gaetano Anzalone. Thanks to the help of some journalists, it was Moggi who came forward and got to know Anzalone, who decided on his job as transfer market consultant in 1977. During his period at Roma, which won the 1979–80 Coppa Italia, Moggi acquired Roberto Pruzzo, who was blown right to Boniperti's Juventus. His departure from Roma occurred a few days after Dino Viola, the new pr...\n"
          ]
        }
      ],
      "source": [
        "# Print retrieved content\n",
        "for i, doc in enumerate(docs):\n",
        "    print(f\"\\n--- Result {i+1} ---\")\n",
        "    print(f\"Content:\\n{doc.page_content}...\")  # truncate for display"
      ]
    },
    {
      "cell_type": "markdown",
      "metadata": {},
      "source": [
        "## Bengali example\n",
        "\n",
        "Create a Bengali retriever and query in Bengali. The retriever will attempt to return relevant Bengali Wikipedia passages when available."
      ]
    },
    {
      "cell_type": "code",
      "execution_count": 41,
      "metadata": {
        "id": "Y147tECjP-LF"
      },
      "outputs": [],
      "source": [
        "# Initialize the retriever (optional: set language and top_k)\n",
        "retriever = WikipediaRetriever(top_k_results=2, lang=\"bn\")"
      ]
    },
    {
      "cell_type": "code",
      "execution_count": 42,
      "metadata": {
        "id": "ERi0q2aXQvYm"
      },
      "outputs": [],
      "source": [
        "# Define your query\n",
        "query = \"ক্যালসিওপোলি কেলেঙ্কারি সম্পর্কে বলুন।\""
      ]
    },
    {
      "cell_type": "code",
      "execution_count": 43,
      "metadata": {
        "id": "KuNal1H3Qxwp"
      },
      "outputs": [],
      "source": [
        "# Get relevant Wikipedia documents\n",
        "docs = retriever.invoke(query)"
      ]
    },
    {
      "cell_type": "code",
      "execution_count": 44,
      "metadata": {
        "colab": {
          "base_uri": "https://localhost:8080/"
        },
        "id": "xuQbYa3jQz-r",
        "outputId": "4f507197-50ea-4e08-8091-dd84b4dfffec"
      },
      "outputs": [
        {
          "data": {
            "text/plain": [
              "[Document(metadata={'title': 'ইয়ুভেন্তুস ফুটবল ক্লাব', 'summary': 'ইয়ুভেন্তুস ফুটবল ক্লাব (লাতিন: juventūs, \\'তারুণ্য\\'; ইতালীয় উচ্চারণ: [juˈvɛntus]), সাধারণত ইয়ুভেন্তুস অথবা শুধুমাত্র ইয়ুভে (উচ্চারিত [ˈjuːve]) নামে পরিচিত যেটি তুরিন, পিডমন্ট, ইতালি, ভিত্তিক একটি পেশাদার ফুটবল ক্লাব, যেটা বর্তমানে ইতালির শীর্ষ স্তরের ফুটবল লিগ সেরিয়ে আ-এ খেলে। এই ক্লাবটি ১৮৯৭ সালের ১লা নভেম্বর তুরিনীয় ছাত্রদের মাধ্যমে প্রতিষ্ঠিত হয়েছিল। ১৯০৩ সাল থেকে ঘরোয়া মাঠে খেলার জন্য ক্লাবটি সাদা-কালো ডোরাকাটা বিশিষ্ট জার্সি ব্যবহার করে আসছে। ইয়ুভেন্তুস তাদের সকল ঘরোয়া ম্যাচ তুরিনের ইয়ুভেন্তুস ফুটবল স্টেডিয়ামে খেলে থাকে; যার ধারণক্ষমতা হচ্ছে ৪১,৫০৭। বর্তমানে এই ক্লাবের ম্যানেজারের দায়িত্ব পালন করছেন আন্দ্রে আল্লেগ্রি এবং সভাপতির দায়িত্ব পালন করছেন মাসসিমিলিয়ানো আল্লেগ্রি। ইতালীয় রক্ষণভাগের খেলোয়াড় লেওনার্দো বোনুচ্চি এই ক্লাবের অধিনায়কের দায়িত্ব পালন করছেন।\\nঘরোয়া ফুটবলে ইয়ুভেন্তুস এপর্যন্ত ৬০টি শিরোপা জয়লাভ করেছে; যার মধ্যে ৩৬টি সেরিয়ে আ, ১টি সেরিয়ে বি, ১৪টি কোপা ইতালিয়া এবং ৯টি সুপারকোপা ইতালিয়ানা শিরোপা রয়েছে। অন্যদিকে ইউরোপীয় এবং আন্তর্জাতিক প্রতিযোগিতায় এপর্যন্ত ১১টি শিরোপা জয়লাভ করেছে; যার মধ্যে ২টি আন্তঃমহাদেশীয় কাপ ২টি উয়েফা চ্যাম্পিয়নস লিগ, ১টি উয়েফা কাপ উইনার্স কাপ, ৩টি উয়েফা ইউরোপা লিগ, ২টি উয়েফা সুপার কাপ এবং একটি উয়েফা ইন্টারটোটা কাপের যৌথ রেকর্ড রয়েছে। ফলস্বরূপ, আন্তর্জাতিক মঞ্চে ক্লাবটি ইউরোপে ষষ্ঠ এবং বিশ্বের দ্বাদশ স্থান দখল করে সবচেয়ে বেশি কনফেডারেশন শিরোপা (এগারোটি ট্রফি) জিতে, পাশাপাশি সর্বকালের ইউনিয়ন অব ইউরোপিয়ান ফুটবল অ্যাসোসিয়েশন (উয়েফা) প্রতিযোগিতার র\\u200c্যাঙ্কিংয়ে চতুর্থ, ১৯৭৯ সালে প্রবর্তনের পর থেকে সাতটি মৌসুমে সর্বোচ্চ সহগ স্কোর অর্জন, উভয় ক্ষেত্রেই একটি ইতালীয় দলের জন্য সবচেয়ে বেশি এবং শেষ উদ্ধৃতে যৌথভাবে দ্বিতীয় স্থান দখল করে ক্লাবটি ঐতিহাসিক ইতালীয় ফুটবল ফেডারেশন (এফআইজিসি) শ্রেণিবিভাগে নেতৃত্ব দেয়।\\nপ্রাথমিকভাবে একটি অ্যাথলেটিক্স ক্লাব হিসাবে স্পোর্ট-ক্লাব ইয়ুভেন্তুস নামে প্রতিষ্ঠিত হয়েছিল, এটি জেনোয়া ফুটবল ক্লাবের (১৮৯৩) পরে দেশে সক্রিয় দ্বিতীয় প্রাচীনতম ক্লাব এবং প্রিমিয়ার ক্লাবের প্রতিটি মৌসুমে প্রতিদ্বন্দ্বিতা করা ক্লাব। বিভাগ (১৯২৯ সালে সেরিয়ে আ শুরু হওয়া পর্যন্ত বিভিন্ন ফর্ম্যাটে সংস্কার করা হয়েছে) ১৯০০ সালে আত্মপ্রকাশের পর থেকে ২০০৬-০৭ মৌসুম বাদ দিয়ে ক্লাবটি ১৯২৩ সাল থেকে প্রায় অবিচ্ছিন্নভাবে শিল্পপতি অ্যাগনেলি পরিবার দ্বারা পরিচালিত হচ্ছে। ক্লাব এবং এর মধ্যে সম্পর্কিত রাজবংশটি জাতীয় ক্রীড়াগুলির মধ্যে প্রাচীন এবং দীর্ঘতম ইয়ুভেন্তুসকে দেশের প্রথম পেশাদার ক্রীড়া ক্লাবগুলির পূর্ব-পত্রীয়দের মধ্যে একটি করে তোলে, ১৯৩০ সাল থেকে জাতীয় পর্যায়ে এবং ১৯৭০-এর দশকের মাঝামাঝি থেকে কনফেডারেশন পর্যায়ে নিজেকে একটি প্রধান শক্তি হিসাবে প্রতিষ্ঠিত করে, এবং প্রায় স্থিতিশীল ভিত্তিতে শীর্ষ-১৯৯০-এর দশকের মাঝামাঝি থেকে মূল্য, আয় এবং লাভের দিক থেকে বিশ্ব ফুটবলে দশটি ধনী ক্লাবের মধ্যে একটি এবং ২০০১ সাল থেকে বোর্সা ইতালিয়ানায় তালিকাভুক্ত করা হয়েছে।\\nজিওভান্নি ত্রাপাত্তনির পরিচালনায় ক্লাবটি ১৯৮৬ সালের আগে দশ বছরে ছয়টি লিগ শিরোপা এবং পাঁচটি আন্তর্জাতিক শিরোপা সহ ১৩টি শিরোপা জিতেছিল, এবং ইউরোপীয় ফুটবল অ্যাসোসিয়েশনের ইউনিয়ন কর্তৃক আয়োজিত তিনটি মৌসুমী প্রতিযোগিতায় এ ক্লাবই প্রথম যারা তিনটিতেই জয়লাভ করে: ১৯৭৬–৭৭ উয়েফা কাপ (প্রথম দক্ষিণ ইউরোপীয় দল হিসেবে এটি জিতে), ১৯৮৩–৮৪ কাপ উইনার্স কাপ এবং ১৯৮৪–৮৫ ইউরোপীয় চ্যাম্পিয়ন্স কাপ। এটি প্রথম ক্লাব যারা ১৯৮৪ সালের ইউরোপীয় সুপার কাপ এবং ১৯৮৫ ইন্টারকন্টিনেন্টাল কাপে পরপর জয়ের সাথে এখন পর্যন্ত বিশ্বের পাঁচটি ঐতিহাসিক কনফেডারেশন ট্রফির একটি ক্লিন সুইপ (সবকটিই জিতে) সম্পন্ন করে; মার্সেলো লিপির নেতৃত্বে আরেকটি সফল যুগের পর ১৯৯৯ সালের উয়েফা ইন্টারটোটো কাপে শিরোপা জয়ের সাথে তারা তাদের সিংহাসন পুনরুদ্ধার করে, এছাড়াও ২০২২ সাল পর্যন্ত এটিই একমাত্র পেশাদার ইতালীয় ক্লাব যা জাতীয় বা আন্তর্জাতিক ফুটবল সংস্থা কর্তৃক আয়োজিত উপলব্ধ প্রতিটি চলমান সম্মাননা জিতেছে। ২০০০ সালের ডিসেম্বরে ইয়ুভেন্তুস ফিফার ঐতিহাসিক র\\u200c্যাঙ্কিংয়ে বিশ্বের সেরা ক্লাবগুলির মধ্যে সপ্তম স্থানে ছিল, এবং নয় বছর পর ইন্টারন্যাশনাল ফেডারেশন অফ ফুটবল হিস্টোরি অ্যান্ড স্ট্যাটিসটিক্স (আইএফএফএইচএস) কর্তৃক পরিসংখ্যানগত অধ্যয়ন সিরিজের ভিত্তিতে বিংশ শতাব্দীতে ইউরোপের দ্বিতীয় সেরা ক্লাবের স্থান লাভ করে, যা উভয় ক্ষেত্রেই একটি ইতালীয় ক্লাবের জন্য এটি সর্বোচ্চ।\\nক্লাবটির সমর্থক গোষ্ঠী জাতীয় পর্যায়ে সবচেয়ে বড় এবং বিশ্বব্যাপী অন্যতম। বেশিরভাগ ইউরোপীয় ক্রীড়া সমর্থক গোষ্ঠীর বিপরীতে (যারা প্রায়শই তাদের নিজস্ব ক্লাবের মূল শহরের চারপাশে কেন্দ্রীভূত হয়) এটি সমগ্র দেশ এবং ইতালীয় প্রবাসী জুড়ে বিস্তৃত, যা ইয়ুভেন্তুসকে অ্যান্টিক্যাম্পানিলিজম (বা লোকালয়ের) এবং ইতালিয়ানতার (\"ইতালীয়তা\") প্রতীক করে তোলে। ইয়ুভেন্তুসের খেলোয়াড়রা আটটি ব্যালন ডি’অর পুরস্কার জিতেছেন, এর মধ্যে মিশেল প্লাতিনি এবং সেই সাথে পাঁচজন প্রাপকের মধ্যে তিনজনসহ চারটি পরপর বছরে (১৯৮২–১৯৮৫, একটি সামগ্রিক যৌথ রেকর্ড) জিতেছেন। ইতালীয় জাতীয়তার প্রথম খেলোয়াড় হিসেবে সেরিয়ে আর প্রতিনিধিত্বকারী ওমর সিভোরি এবং যুব বিভাগের প্রাক্তন সদস্য পাওলো রসি চারটি ফিফা বর্ষসেরা খেলোয়াড় পুরস্কারও জিতেছে, রবের্তো বাজ্জো এবং জিনেদিন জিদানের মতো বিজয়ী একটি জাতীয় রেকর্ড এবং উদ্ধৃত পুরস্কারে যথাক্রমে তৃতীয় এবং যৌথভাবে দ্বিতীয় সর্বোচ্চ অবস্থান পেয়েছে। অবশেষে ক্লাবটি ইতালি জাতীয় দলকে সবচেয়ে বেশি খেলোয়াড় প্রদান করেছে (বেশিরভাগই ১৯২৪ সাল থেকে প্রায় নিরবচ্ছিন্নভাবে অফিসিয়াল প্রতিযোগিতায়) যারা প্রায়শই এমন একটি দল গঠন করে যা আজজুরি স্কোয়াডটিকে আন্তর্জাতিক সাফল্যের দিকে নিয়ে যায়, বিশেষত সবচেয়ে গুরুত্বপূর্ণভাবে ১৯৩৪, ১৯৮২ এবং ২০০৬ ফিফা বিশ্বকাপে।', 'source': 'https://bn.wikipedia.org/wiki/%E0%A6%87%E0%A6%AF%E0%A6%BC%E0%A7%81%E0%A6%AD%E0%A7%87%E0%A6%A8%E0%A7%8D%E0%A6%A4%E0%A7%81%E0%A6%B8_%E0%A6%AB%E0%A7%81%E0%A6%9F%E0%A6%AC%E0%A6%B2_%E0%A6%95%E0%A7%8D%E0%A6%B2%E0%A6%BE%E0%A6%AC'}, page_content=\"ইয়ুভেন্তুস ফুটবল ক্লাব (লাতিন: juventūs, 'তারুণ্য'; ইতালীয় উচ্চারণ: [juˈvɛntus]), সাধারণত ইয়ুভেন্তুস অথবা শুধুমাত্র ইয়ুভে (উচ্চারিত [ˈjuːve]) নামে পরিচিত যেটি তুরিন, পিডমন্ট, ইতালি, ভিত্তিক একটি পেশাদার ফুটবল ক্লাব, যেটা বর্তমানে ইতালির শীর্ষ স্তরের ফুটবল লিগ সেরিয়ে আ-এ খেলে। এই ক্লাবটি ১৮৯৭ সালের ১লা নভেম্বর তুরিনীয় ছাত্রদের মাধ্যমে প্রতিষ্ঠিত হয়েছিল। ১৯০৩ সাল থেকে ঘরোয়া মাঠে খেলার জন্য ক্লাবটি সাদা-কালো ডোরাকাটা বিশিষ্ট জার্সি ব্যবহার করে আসছে। ইয়ুভেন্তুস তাদের সকল ঘরোয়া ম্যাচ তুরিনের ইয়ুভেন্তুস ফুটবল স্টেডিয়ামে খেলে থাকে; যার ধারণক্ষমতা হচ্ছে ৪১,৫০৭। বর্তমানে এই ক্লাবের ম্যানেজারের দায়িত্ব পালন করছেন আন্দ্রে আল্লেগ্রি এবং সভাপতির দায়িত্ব পালন করছেন মাসসিমিলিয়ানো আল্লেগ্রি। ইতালীয় রক্ষণভাগের খেলোয়াড় লেওনার্দো বোনুচ্চি এই ক্লাবের অধিনায়কের দায়িত্ব পালন করছেন।\\nঘরোয়া ফুটবলে ইয়ুভেন্তুস এপর্যন্ত ৬০টি শিরোপা জয়লাভ করেছে; যার মধ্যে ৩৬টি সেরিয়ে আ, ১টি সেরিয়ে বি, ১৪টি কোপা ইতালিয়া এবং ৯টি সুপারকোপা ইতালিয়ানা শিরোপা রয়েছে। অন্যদিকে ইউরোপীয় এবং আন্তর্জাতিক প্রতিযোগিতায় এপর্যন্ত ১১টি শিরোপা জয়লাভ করেছে; যার মধ্যে ২টি আন্তঃমহাদেশীয় কাপ ২টি উয়েফা চ্যাম্পিয়নস লিগ, ১টি উয়েফা কাপ উইনার্স কাপ, ৩টি উয়েফা ইউরোপা লিগ, ২টি উয়েফা সুপার কাপ এবং একটি উয়েফা ইন্টারটোটা কাপের যৌথ রেকর্ড রয়েছে। ফলস্বরূপ, আন্তর্জাতিক মঞ্চে ক্লাবটি ইউরোপে ষষ্ঠ এবং বিশ্বের দ্বাদশ স্থান দখল করে সবচেয়ে বেশি কনফেডারেশন শিরোপা (এগারোটি ট্রফি) জিতে, পাশাপাশি সর্বকালের ইউনিয়ন অব ইউরোপিয়ান ফুটবল অ্যাসোসিয়েশন (উয়েফা) প্রতিযোগিতার র\\u200c্যাঙ্কিংয়ে চতুর্থ, ১৯৭৯ সালে প্রবর্তনের পর থেকে সাতটি মৌসুমে সর্বোচ্চ সহগ স্কোর অর্জন, উভয় ক্ষেত্রেই একটি ইতালীয় দলের জন্য সবচেয়ে বেশি এবং শেষ উদ্ধৃতে যৌথভাবে দ্বিতীয় স্থান দখল করে ক্লাবটি ঐতিহাসিক ইতালীয় ফুটবল ফেডারেশন (এফআইজিসি) শ্রেণিবিভাগে নেতৃত্ব দেয়।\\nপ্রাথমিকভাবে একটি অ্যাথলেটিক্স ক্লাব হিসাবে স্পোর্ট-ক্লাব ইয়ুভেন্তুস নামে প্রতিষ্ঠিত হয়েছিল, এটি জেনোয়া ফুটবল ক্লাবের (১৮৯৩) পরে দেশে সক্রিয় দ্বিতীয় প্রাচীনতম ক্লাব এবং প্রিমিয়ার ক্লাবের প্রতিটি মৌসুমে প্রতিদ্বন্দ্বিতা করা ক্লাব। বিভাগ (১৯২৯ সালে সেরিয়ে আ শুরু হওয়া পর্যন্ত বিভিন্ন ফর্ম্যাটে সংস্কার করা হয়েছে) ১৯০০ সালে আত্মপ্রকাশের পর থেকে ২০০৬-০৭ মৌসুম বাদ দিয়ে ক্লাবটি ১৯২৩ সাল থেকে প্রায় অবিচ্ছিন্নভাবে শিল্পপতি অ্যাগনেলি পরিবার দ্বারা পরিচালিত হচ্ছে। ক্লাব এবং এর মধ্যে সম্পর্কিত রাজবংশটি জাতীয় ক্রীড়াগুলির মধ্যে প্রাচীন এবং দীর্ঘতম ইয়ুভেন্তুসকে দেশের প্রথম পেশাদার ক্রীড়া ক্লাবগুলির পূর্ব-পত্রীয়দের মধ্যে একটি করে তোলে, ১৯৩০ সাল থেকে জাতীয় পর্যায়ে এবং ১৯৭০-এর দশকের মাঝামাঝি থেকে কনফেডারেশন পর্যায়ে নিজেকে একটি প্রধান শক্তি হিসাবে প্রতিষ্ঠিত করে, এবং প্রায় স্থিতিশীল ভিত্তিতে শীর্ষ-১৯৯০-এর দশকের মাঝামাঝি থেকে মূল্য, আয় এবং লাভের দিক থেকে বিশ্ব ফুটবলে দশটি ধনী ক্লাবের মধ্যে একটি এবং ২০০১ সাল থেকে বোর্সা ইতালিয়ানায় তালিকাভুক্ত করা হয়েছে।\\nজিওভান্নি ত্রাপাত্তনির পরিচালনায় ক্লাবটি ১৯৮৬ সালের আগে দশ বছরে ছয়টি লিগ শিরোপা এবং পাঁচটি আন্তর্জাতিক শিরোপা সহ ১৩টি শিরোপা জিতেছিল, এবং ইউরোপীয় ফুটবল অ্যাসোসিয়েশনের ইউনিয়ন কর্তৃক আয়োজিত তিনটি মৌসুমী প্রতিযোগিতায় এ ক্লাবই প্রথম যারা তিনটিতেই জয়লাভ করে: ১৯৭৬–৭৭ উয়েফা কাপ (প্রথম দক্ষিণ ইউরোপীয় দল হিসেবে এটি জিতে), ১৯৮৩–৮৪ কাপ উইনার্স কাপ এবং ১৯৮৪–৮৫ ইউরোপীয় চ্যাম্পিয়ন্স কাপ। এটি প্রথম ক্লাব যারা ১৯৮৪ সালের ইউরোপীয় সুপার কাপ এবং ১৯৮৫ ইন্টারকন্টিনেন্টাল কাপে পরপর জয়ের সাথে এখন পর্যন্ত বিশ্বের পাঁচটি ঐতিহাসিক কনফেডারেশন ট্রফির একটি ক্লিন সুইপ (সবকটিই জিতে) সম্পন্ন করে; মার্সেলো লিপির নেতৃত্বে আরেকটি সফল যুগের পর ১৯৯৯ সালের উয়েফা ইন্টারটোটো কাপে শিরোপা জয়ের সাথে তারা তাদের সিংহাসন পুনরুদ্ধার করে, এছাড়াও ২০২২ সাল পর্যন্ত এটিই একমাত্র পেশাদার ইতালীয় ক্লাব যা জাতীয় বা আন্তর্জাতিক ফুটবল সংস্থা কর্তৃক আয়োজিত উপলব্ধ প্রতিটি চলমান সম্মাননা জিতেছে। ২০০০ সালের ডিসেম্বরে ইয়ুভেন্তুস ফিফার ঐতিহাসিক র\\u200c্যাঙ্কিংয়ে বিশ্বের সেরা ক্লাবগুলির মধ্যে সপ্তম স্থানে ছিল, এবং নয় বছর পর ইন্টারন্যাশনাল ফেডারেশন অফ ফুটবল হিস্টোরি অ্যান্ড স্ট্যাটিসটিক্স (আইএফএফএইচএস) কর্তৃক পরিসংখ্যানগত অধ্যয়ন সিরিজের ভিত্তিতে বিংশ শতাব্দীতে ইউরোপের দ্বিতীয় সেরা ক্লাবের স্থান লাভ করে, যা উভয় ক্ষেত্রেই একটি ইতালীয় ক্লাবের জন্য এটি সর্বোচ্চ।\\nক্লাবটির সমর্থক গোষ্ঠী জাতীয় পর্যায়ে সবচেয়ে বড় এবং বিশ্বব্যাপী অন্যতম। বেশিরভাগ ইউ\")]"
            ]
          },
          "execution_count": 44,
          "metadata": {},
          "output_type": "execute_result"
        }
      ],
      "source": [
        "docs"
      ]
    },
    {
      "cell_type": "code",
      "execution_count": 45,
      "metadata": {
        "colab": {
          "base_uri": "https://localhost:8080/"
        },
        "id": "ppBIlskcQ06l",
        "outputId": "273197dd-4255-49b6-eb86-3f678ca16893"
      },
      "outputs": [
        {
          "name": "stdout",
          "output_type": "stream",
          "text": [
            "\n",
            "--- Result 1 ---\n",
            "Content:\n",
            "ইয়ুভেন্তুস ফুটবল ক্লাব (লাতিন: juventūs, 'তারুণ্য'; ইতালীয় উচ্চারণ: [juˈvɛntus]), সাধারণত ইয়ুভেন্তুস অথবা শুধুমাত্র ইয়ুভে (উচ্চারিত [ˈjuːve]) নামে পরিচিত যেটি তুরিন, পিডমন্ট, ইতালি, ভিত্তিক একটি পেশাদার ফুটবল ক্লাব, যেটা বর্তমানে ইতালির শীর্ষ স্তরের ফুটবল লিগ সেরিয়ে আ-এ খেলে। এই ক্লাবটি ১৮৯৭ সালের ১লা নভেম্বর তুরিনীয় ছাত্রদের মাধ্যমে প্রতিষ্ঠিত হয়েছিল। ১৯০৩ সাল থেকে ঘরোয়া মাঠে খেলার জন্য ক্লাবটি সাদা-কালো ডোরাকাটা বিশিষ্ট জার্সি ব্যবহার করে আসছে। ইয়ুভেন্তুস তাদের সকল ঘরোয়া ম্যাচ তুরিনের ইয়ুভেন্তুস ফুটবল স্টেডিয়ামে খেলে থাকে; যার ধারণক্ষমতা হচ্ছে ৪১,৫০৭। বর্তমানে এই ক্লাবের ম্যানেজারের দায়িত্ব পালন করছেন আন্দ্রে আল্লেগ্রি এবং সভাপতির দায়িত্ব পালন করছেন মাসসিমিলিয়ানো আল্লেগ্রি। ইতালীয় রক্ষণভাগের খেলোয়াড় লেওনার্দো বোনুচ্চি এই ক্লাবের অধিনায়কের দায়িত্ব পালন করছেন।\n",
            "ঘরোয়া ফুটবলে ইয়ুভেন্তুস এপর্যন্ত ৬০টি শিরোপা জয়লাভ করেছে; যার মধ্যে ৩৬টি সেরিয়ে আ, ১টি সেরিয়ে বি, ১৪টি কোপা ইতালিয়া এবং ৯টি সুপারকোপা ইতালিয়ানা শিরোপা রয়েছে। অন্যদিকে ইউরোপীয় এবং আন্তর্জাতিক প্রতিযোগিতায় এপর্যন্ত ১১টি শিরোপা জয়লাভ করেছে; যার মধ্যে ২টি আন্তঃমহাদেশীয় কাপ ২টি উয়েফা চ্যাম্পিয়নস লিগ, ১টি উয়েফা কাপ উইনার্স কাপ, ৩টি উয়েফা ইউরোপা লিগ, ২টি উয়েফা সুপার কাপ এবং একটি উয়েফা ইন্টারটোটা কাপের যৌথ রেকর্ড রয়েছে। ফলস্বরূপ, আন্তর্জাতিক মঞ্চে ক্লাবটি ইউরোপে ষষ্ঠ এবং বিশ্বের দ্বাদশ স্থান দখল করে সবচেয়ে বেশি কনফেডারেশন শিরোপা (এগারোটি ট্রফি) জিতে, পাশাপাশি সর্বকালের ইউনিয়ন অব ইউরোপিয়ান ফুটবল অ্যাসোসিয়েশন (উয়েফা) প্রতিযোগিতার র‌্যাঙ্কিংয়ে চতুর্থ, ১৯৭৯ সালে প্রবর্তনের পর থেকে সাতটি মৌসুমে সর্বোচ্চ সহগ স্কোর অর্জন, উভয় ক্ষেত্রেই একটি ইতালীয় দলের জন্য সবচেয়ে বেশি এবং শেষ উদ্ধৃতে যৌথভাবে দ্বিতীয় স্থান দখল করে ক্লাবটি ঐতিহাসিক ইতালীয় ফুটবল ফেডারেশন (এফআইজিসি) শ্রেণিবিভাগে নেতৃত্ব দেয়।\n",
            "প্রাথমিকভাবে একটি অ্যাথলেটিক্স ক্লাব হিসাবে স্পোর্ট-ক্লাব ইয়ুভেন্তুস নামে প্রতিষ্ঠিত হয়েছিল, এটি জেনোয়া ফুটবল ক্লাবের (১৮৯৩) পরে দেশে সক্রিয় দ্বিতীয় প্রাচীনতম ক্লাব এবং প্রিমিয়ার ক্লাবের প্রতিটি মৌসুমে প্রতিদ্বন্দ্বিতা করা ক্লাব। বিভাগ (১৯২৯ সালে সেরিয়ে আ শুরু হওয়া পর্যন্ত বিভিন্ন ফর্ম্যাটে সংস্কার করা হয়েছে) ১৯০০ সালে আত্মপ্রকাশের পর থেকে ২০০৬-০৭ মৌসুম বাদ দিয়ে ক্লাবটি ১৯২৩ সাল থেকে প্রায় অবিচ্ছিন্নভাবে শিল্পপতি অ্যাগনেলি পরিবার দ্বারা পরিচালিত হচ্ছে। ক্লাব এবং এর মধ্যে সম্পর্কিত রাজবংশটি জাতীয় ক্রীড়াগুলির মধ্যে প্রাচীন এবং দীর্ঘতম ইয়ুভেন্তুসকে দেশের প্রথম পেশাদার ক্রীড়া ক্লাবগুলির পূর্ব-পত্রীয়দের মধ্যে একটি করে তোলে, ১৯৩০ সাল থেকে জাতীয় পর্যায়ে এবং ১৯৭০-এর দশকের মাঝামাঝি থেকে কনফেডারেশন পর্যায়ে নিজেকে একটি প্রধান শক্তি হিসাবে প্রতিষ্ঠিত করে, এবং প্রায় স্থিতিশীল ভিত্তিতে শীর্ষ-১৯৯০-এর দশকের মাঝামাঝি থেকে মূল্য, আয় এবং লাভের দিক থেকে বিশ্ব ফুটবলে দশটি ধনী ক্লাবের মধ্যে একটি এবং ২০০১ সাল থেকে বোর্সা ইতালিয়ানায় তালিকাভুক্ত করা হয়েছে।\n",
            "জিওভান্নি ত্রাপাত্তনির পরিচালনায় ক্লাবটি ১৯৮৬ সালের আগে দশ বছরে ছয়টি লিগ শিরোপা এবং পাঁচটি আন্তর্জাতিক শিরোপা সহ ১৩টি শিরোপা জিতেছিল, এবং ইউরোপীয় ফুটবল অ্যাসোসিয়েশনের ইউনিয়ন কর্তৃক আয়োজিত তিনটি মৌসুমী প্রতিযোগিতায় এ ক্লাবই প্রথম যারা তিনটিতেই জয়লাভ করে: ১৯৭৬–৭৭ উয়েফা কাপ (প্রথম দক্ষিণ ইউরোপীয় দল হিসেবে এটি জিতে), ১৯৮৩–৮৪ কাপ উইনার্স কাপ এবং ১৯৮৪–৮৫ ইউরোপীয় চ্যাম্পিয়ন্স কাপ। এটি প্রথম ক্লাব যারা ১৯৮৪ সালের ইউরোপীয় সুপার কাপ এবং ১৯৮৫ ইন্টারকন্টিনেন্টাল কাপে পরপর জয়ের সাথে এখন পর্যন্ত বিশ্বের পাঁচটি ঐতিহাসিক কনফেডারেশন ট্রফির একটি ক্লিন সুইপ (সবকটিই জিতে) সম্পন্ন করে; মার্সেলো লিপির নেতৃত্বে আরেকটি সফল যুগের পর ১৯৯৯ সালের উয়েফা ইন্টারটোটো কাপে শিরোপা জয়ের সাথে তারা তাদের সিংহাসন পুনরুদ্ধার করে, এছাড়াও ২০২২ সাল পর্যন্ত এটিই একমাত্র পেশাদার ইতালীয় ক্লাব যা জাতীয় বা আন্তর্জাতিক ফুটবল সংস্থা কর্তৃক আয়োজিত উপলব্ধ প্রতিটি চলমান সম্মাননা জিতেছে। ২০০০ সালের ডিসেম্বরে ইয়ুভেন্তুস ফিফার ঐতিহাসিক র‌্যাঙ্কিংয়ে বিশ্বের সেরা ক্লাবগুলির মধ্যে সপ্তম স্থানে ছিল, এবং নয় বছর পর ইন্টারন্যাশনাল ফেডারেশন অফ ফুটবল হিস্টোরি অ্যান্ড স্ট্যাটিসটিক্স (আইএফএফএইচএস) কর্তৃক পরিসংখ্যানগত অধ্যয়ন সিরিজের ভিত্তিতে বিংশ শতাব্দীতে ইউরোপের দ্বিতীয় সেরা ক্লাবের স্থান লাভ করে, যা উভয় ক্ষেত্রেই একটি ইতালীয় ক্লাবের জন্য এটি সর্বোচ্চ।\n",
            "ক্লাবটির সমর্থক গোষ্ঠী জাতীয় পর্যায়ে সবচেয়ে বড় এবং বিশ্বব্যাপী অন্যতম। বেশিরভাগ ইউ...\n"
          ]
        }
      ],
      "source": [
        "# Print retrieved content\n",
        "for i, doc in enumerate(docs):\n",
        "    print(f\"\\n--- Result {i+1} ---\")\n",
        "    print(f\"Content:\\n{doc.page_content}...\")  # truncate for display"
      ]
    },
    {
      "cell_type": "code",
      "execution_count": 45,
      "metadata": {
        "id": "0v6DGvGIRapH"
      },
      "outputs": [],
      "source": []
    }
  ],
  "metadata": {
    "colab": {
      "provenance": []
    },
    "kernelspec": {
      "display_name": "Python 3",
      "name": "python3"
    },
    "language_info": {
      "name": "python"
    }
  },
  "nbformat": 4,
  "nbformat_minor": 0
}
