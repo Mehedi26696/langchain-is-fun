{
  "cells": [
    {
      "cell_type": "markdown",
      "metadata": {},
      "source": [
        "# Multi-Query Retriever (LangChain)\n",
        "\n",
        "Purpose: show how to use `MultiQueryRetriever` together with a vector store to retrieve diverse, targeted results by decomposing a query into multiple sub-queries.\n",
        "\n",
        "This notebook demonstrates:\n",
        "- Preparing documents with metadata,  \n",
        "- Creating embeddings and a FAISS index,  \n",
        "- Building similarity and multi-query retrievers,  \n",
        "- Comparing results.\n",
        "\n",
        "Run cells top-to-bottom."
      ]
    },
    {
      "cell_type": "code",
      "execution_count": null,
      "metadata": {
        "colab": {
          "base_uri": "https://localhost:8080/"
        },
        "id": "DJf_drKTNhrF",
        "outputId": "02b91dad-0a0c-4b6d-953b-ee87c9ce17eb"
      },
      "outputs": [],
      "source": [
        "!pip install langchain chromadb openai tiktoken pypdf langchain_google_genai langchain-community wikipedia"
      ]
    },
    {
      "cell_type": "markdown",
      "metadata": {},
      "source": [
        "## Prerequisites\n",
        "\n",
        "- Install packages (first cell).  \n",
        "- Provide `GEMINI_API_KEY` or replace with your preferred embeddings/LLM provider.\n",
        "- `faiss-cpu` is recommended for CPU-only environments."
      ]
    },
    {
      "cell_type": "code",
      "execution_count": 100,
      "metadata": {
        "id": "7mg5xz2lNnrf"
      },
      "outputs": [],
      "source": [
        "from google.colab import userdata\n",
        "gemini_api_key = userdata.get('GEMINI_API_KEY')"
      ]
    },
    {
      "cell_type": "code",
      "execution_count": null,
      "metadata": {
        "colab": {
          "base_uri": "https://localhost:8080/"
        },
        "id": "YchY5ps1XtCS",
        "outputId": "5008896b-59b6-4c44-ed88-c8cc9d5489a2"
      },
      "outputs": [],
      "source": [
        "!pip install faiss-cpu"
      ]
    },
    {
      "cell_type": "markdown",
      "metadata": {},
      "source": [
        "## Imports & libraries\n",
        "\n",
        "This cell imports FAISS, embeddings, Document, MultiQueryRetriever and the LLM used to generate sub-queries for the multi-query retriever."
      ]
    },
    {
      "cell_type": "code",
      "execution_count": 102,
      "metadata": {
        "id": "0v6DGvGIRapH"
      },
      "outputs": [],
      "source": [
        "from langchain_community.vectorstores import FAISS\n",
        "from langchain_google_genai import GoogleGenerativeAIEmbeddings\n",
        "from langchain_core.documents import Document\n",
        "from langchain.retrievers.multi_query import MultiQueryRetriever\n",
        "from langchain_google_genai import ChatGoogleGenerativeAI"
      ]
    },
    {
      "cell_type": "markdown",
      "metadata": {},
      "source": [
        "## Step 1 — Documents with metadata\n",
        "\n",
        "Store metadata-rich documents (topic, source, year) so you can filter or rank by metadata in downstream flows."
      ]
    },
    {
      "cell_type": "code",
      "execution_count": 103,
      "metadata": {
        "id": "F5RLeCVrSP6u"
      },
      "outputs": [],
      "source": [
        "# Step 1: Your source documents with metadata\n",
        "documents = [\n",
        "    Document(\n",
        "        page_content=\"Football is the most popular sport in the world, played by over 250 million players across more than 200 countries.\",\n",
        "        metadata={\"topic\": \"General\", \"source\": \"FIFA Stats\", \"year\": 2023}\n",
        "    ),\n",
        "    Document(\n",
        "        page_content=\"Lionel Messi is known for his incredible dribbling, vision, and goal-scoring ability, earning multiple Ballon d'Or awards.\",\n",
        "        metadata={\"topic\": \"Player\", \"player\": \"Lionel Messi\", \"source\": \"Sports Illustrated\", \"year\": 2022}\n",
        "    ),\n",
        "    Document(\n",
        "        page_content=\"The FIFA World Cup is held every four years and is the most prestigious international football tournament.\",\n",
        "        metadata={\"topic\": \"Tournament\", \"name\": \"FIFA World Cup\", \"source\": \"FIFA\", \"year\": 2022}\n",
        "    ),\n",
        "    Document(\n",
        "        page_content=\"Tactics in football involve formations, pressing strategies, and player roles that determine how a team controls the game.\",\n",
        "        metadata={\"topic\": \"Tactics\", \"source\": \"Coaching Manual\", \"year\": 2021}\n",
        "    ),\n",
        "    Document(\n",
        "        page_content=\"Cristiano Ronaldo is a legendary footballer celebrated for his athleticism, goal-scoring, and leadership on the field.\",\n",
        "        metadata={\"topic\": \"Player\", \"player\": \"Cristiano Ronaldo\", \"source\": \"ESPN\", \"year\": 2022}\n",
        "    ),\n",
        "    Document(\n",
        "        page_content=\"Football clubs like FC Barcelona, Real Madrid, and Manchester United have millions of fans worldwide.\",\n",
        "        metadata={\"topic\": \"Club\", \"source\": \"BBC Sport\", \"year\": 2023}\n",
        "    ),\n",
        "    Document(\n",
        "        page_content=\"The UEFA Champions League is an annual club competition that brings together the best European teams.\",\n",
        "        metadata={\"topic\": \"Tournament\", \"name\": \"UEFA Champions League\", \"source\": \"UEFA\", \"year\": 2023}\n",
        "    ),\n",
        "    Document(\n",
        "        page_content=\"Youth development programs and football academies play a key role in nurturing the next generation of football stars.\",\n",
        "        metadata={\"topic\": \"Development\", \"source\": \"The Guardian\", \"year\": 2021}\n",
        "    ),\n",
        "]\n"
      ]
    },
    {
      "cell_type": "markdown",
      "metadata": {},
      "source": [
        "## Step 2 — Embeddings & index\n",
        "\n",
        "Create embeddings and build a FAISS index from the documents. Replace with your provider if required."
      ]
    },
    {
      "cell_type": "code",
      "execution_count": 104,
      "metadata": {
        "id": "X2bQSic4Sk6K"
      },
      "outputs": [],
      "source": [
        "# Step 2: Initialize embedding model\n",
        "embeddings = GoogleGenerativeAIEmbeddings(\n",
        "    model=\"models/gemini-embedding-001\",\n",
        "    google_api_key=gemini_api_key\n",
        ")"
      ]
    },
    {
      "cell_type": "code",
      "execution_count": 105,
      "metadata": {
        "id": "9F1CUJJeSxQM"
      },
      "outputs": [],
      "source": [
        "# Step 3: Create Chroma vector store in memory\n",
        "vectorstore = FAISS.from_documents(\n",
        "    documents=documents,\n",
        "    embedding=embeddings\n",
        ")"
      ]
    },
    {
      "cell_type": "markdown",
      "metadata": {},
      "source": [
        "## Step 3 — Build similarity retriever\n",
        "\n",
        "Create a standard similarity retriever to compare with the multi-query retriever."
      ]
    },
    {
      "cell_type": "code",
      "execution_count": 106,
      "metadata": {
        "id": "XG0wo-kgS9CS"
      },
      "outputs": [],
      "source": [
        "# Create retrievers\n",
        "similarity_retriever = vectorstore.as_retriever(search_type=\"similarity\", search_kwargs={\"k\": 5})"
      ]
    },
    {
      "cell_type": "code",
      "execution_count": 107,
      "metadata": {
        "id": "tphvarRuk8lH"
      },
      "outputs": [],
      "source": [
        "model = ChatGoogleGenerativeAI(\n",
        "    model=\"gemini-2.5-flash\",\n",
        "    google_api_key=gemini_api_key\n",
        ")"
      ]
    },
    {
      "cell_type": "markdown",
      "metadata": {},
      "source": [
        "## Step 4 — Create MultiQueryRetriever\n",
        "\n",
        "`MultiQueryRetriever` uses an LLM to rewrite or generate sub-queries and merges results for broader coverage. Use a capable LLM for best results."
      ]
    },
    {
      "cell_type": "code",
      "execution_count": 108,
      "metadata": {
        "id": "2A5JMwAokq4O"
      },
      "outputs": [],
      "source": [
        "multiquery_retriever = MultiQueryRetriever.from_llm(\n",
        "    retriever=vectorstore.as_retriever(search_kwargs={\"k\": 5}),\n",
        "    llm=model\n",
        ")"
      ]
    },
    {
      "cell_type": "markdown",
      "metadata": {},
      "source": [
        "## Query & compare\n",
        "\n",
        "Run both the similarity retriever and multi-query retriever on the same query and compare results for coverage and diversity."
      ]
    },
    {
      "cell_type": "code",
      "execution_count": 109,
      "metadata": {
        "id": "AAezPR8WTGu6"
      },
      "outputs": [],
      "source": [
        "query = \"Who are the legends of the game and what makes them famous?\""
      ]
    },
    {
      "cell_type": "code",
      "execution_count": 110,
      "metadata": {
        "id": "cGpioJNDlh4Z"
      },
      "outputs": [],
      "source": [
        "# Retrieve results\n",
        "similarity_results = similarity_retriever.invoke(query)\n",
        "multiquery_results= multiquery_retriever.invoke(query)"
      ]
    },
    {
      "cell_type": "code",
      "execution_count": 111,
      "metadata": {
        "colab": {
          "base_uri": "https://localhost:8080/"
        },
        "id": "0Z_Lh629TTxC",
        "outputId": "f6c13196-c453-48f6-aa7a-8d3f72965a29"
      },
      "outputs": [
        {
          "name": "stdout",
          "output_type": "stream",
          "text": [
            "\n",
            "--- Result 1 ---\n",
            "Cristiano Ronaldo is a legendary footballer celebrated for his athleticism, goal-scoring, and leadership on the field.\n",
            "\n",
            "--- Result 2 ---\n",
            "Youth development programs and football academies play a key role in nurturing the next generation of football stars.\n",
            "\n",
            "--- Result 3 ---\n",
            "Football is the most popular sport in the world, played by over 250 million players across more than 200 countries.\n",
            "\n",
            "--- Result 4 ---\n",
            "The FIFA World Cup is held every four years and is the most prestigious international football tournament.\n",
            "\n",
            "--- Result 5 ---\n",
            "Football clubs like FC Barcelona, Real Madrid, and Manchester United have millions of fans worldwide.\n",
            "******************************************************************************************************************************************************\n",
            "\n",
            "--- Result 1 ---\n",
            "Cristiano Ronaldo is a legendary footballer celebrated for his athleticism, goal-scoring, and leadership on the field.\n",
            "\n",
            "--- Result 2 ---\n",
            "Youth development programs and football academies play a key role in nurturing the next generation of football stars.\n",
            "\n",
            "--- Result 3 ---\n",
            "Lionel Messi is known for his incredible dribbling, vision, and goal-scoring ability, earning multiple Ballon d'Or awards.\n",
            "\n",
            "--- Result 4 ---\n",
            "Tactics in football involve formations, pressing strategies, and player roles that determine how a team controls the game.\n",
            "\n",
            "--- Result 5 ---\n",
            "The UEFA Champions League is an annual club competition that brings together the best European teams.\n",
            "\n",
            "--- Result 6 ---\n",
            "Football is the most popular sport in the world, played by over 250 million players across more than 200 countries.\n",
            "\n",
            "--- Result 7 ---\n",
            "The FIFA World Cup is held every four years and is the most prestigious international football tournament.\n",
            "\n",
            "--- Result 8 ---\n",
            "Football clubs like FC Barcelona, Real Madrid, and Manchester United have millions of fans worldwide.\n"
          ]
        }
      ],
      "source": [
        "for i, doc in enumerate(similarity_results):\n",
        "    print(f\"\\n--- Result {i+1} ---\")\n",
        "    print(doc.page_content)\n",
        "\n",
        "print(\"*\"*150)\n",
        "\n",
        "for i, doc in enumerate(multiquery_results):\n",
        "    print(f\"\\n--- Result {i+1} ---\")\n",
        "    print(doc.page_content)"
      ]
    }
  ],
  "metadata": {
    "colab": {
      "provenance": []
    },
    "kernelspec": {
      "display_name": "Python 3",
      "name": "python3"
    },
    "language_info": {
      "name": "python"
    }
  },
  "nbformat": 4,
  "nbformat_minor": 0
}
