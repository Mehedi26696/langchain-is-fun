{
  "cells": [
    {
      "cell_type": "markdown",
      "metadata": {},
      "source": [
        "# Maximal Marginal Relevance (MMR) Retriever\n",
        "\n",
        "Purpose: Demonstrate using MMR (Maximal Marginal Relevance) to retrieve diverse and relevant documents from a vector store. MMR helps balance relevance with diversity so top results are not redundantly similar.\n",
        "\n",
        "When to use MMR:\n",
        "- You want diverse results (e.g., supporting documents from different angles).  \n",
        "- You want to avoid multiple near-duplicate passages in the top-k results."
      ]
    },
    {
      "cell_type": "markdown",
      "metadata": {},
      "source": [
        "## Prerequisites & install\n",
        "\n",
        "- Install required packages (first cell).  \n",
        "- For FAISS, `faiss-cpu` is required for CPU-only environments."
      ]
    },
    {
      "cell_type": "code",
      "execution_count": null,
      "metadata": {
        "colab": {
          "base_uri": "https://localhost:8080/"
        },
        "id": "DJf_drKTNhrF",
        "outputId": "5bf61180-8929-4504-8dab-783011a6f2cc"
      },
      "outputs": [],
      "source": [
        "!pip install langchain chromadb openai tiktoken pypdf langchain_google_genai langchain-community wikipedia"
      ]
    },
    {
      "cell_type": "code",
      "execution_count": 74,
      "metadata": {
        "id": "7mg5xz2lNnrf"
      },
      "outputs": [],
      "source": [
        "from google.colab import userdata\n",
        "gemini_api_key = userdata.get('GEMINI_API_KEY')"
      ]
    },
    {
      "cell_type": "code",
      "execution_count": null,
      "metadata": {
        "colab": {
          "base_uri": "https://localhost:8080/"
        },
        "id": "YchY5ps1XtCS",
        "outputId": "0b24aa4d-8672-4101-a73b-acf8e7d45a51"
      },
      "outputs": [],
      "source": [
        "!pip install faiss-cpu"
      ]
    },
    {
      "cell_type": "markdown",
      "metadata": {},
      "source": [
        "## Imports & data\n",
        "\n",
        "This cell imports FAISS, embeddings, and the Document type. Next we define sample documents to index."
      ]
    },
    {
      "cell_type": "code",
      "execution_count": 76,
      "metadata": {
        "id": "0v6DGvGIRapH"
      },
      "outputs": [],
      "source": [
        "from langchain_community.vectorstores import FAISS\n",
        "from langchain_google_genai import GoogleGenerativeAIEmbeddings\n",
        "from langchain_core.documents import Document"
      ]
    },
    {
      "cell_type": "code",
      "execution_count": 77,
      "metadata": {
        "id": "F5RLeCVrSP6u"
      },
      "outputs": [],
      "source": [
        "# Step 1: Your source documents\n",
        "documents = [\n",
        "    Document(page_content=\"Football is the most popular sport in the world, played by over 250 million players across more than 200 countries.\"),\n",
        "    Document(page_content=\"Lionel Messi is known for his incredible dribbling, vision, and goal-scoring ability, earning multiple Ballon d'Or awards.\"),\n",
        "    Document(page_content=\"The FIFA World Cup is held every four years and is the most prestigious international football tournament.\"),\n",
        "    Document(page_content=\"Tactics in football involve formations, pressing strategies, and player roles that determine how a team controls the game.\"),\n",
        "    Document(page_content=\"Cristiano Ronaldo is a legendary footballer celebrated for his athleticism, goal-scoring, and leadership on the field.\"),\n",
        "    Document(page_content=\"Football clubs like FC Barcelona, Real Madrid, and Manchester United have millions of fans worldwide.\"),\n",
        "    Document(page_content=\"The UEFA Champions League is an annual club competition that brings together the best European teams.\"),\n",
        "    Document(page_content=\"Youth development programs and football academies play a key role in nurturing the next generation of football stars.\"),\n",
        "]\n"
      ]
    },
    {
      "cell_type": "markdown",
      "metadata": {},
      "source": [
        "## Create vector store\n",
        "\n",
        "Build the vector index (FAISS) from the documents using embeddings. This index will be used with MMR-enabled retrieval."
      ]
    },
    {
      "cell_type": "code",
      "execution_count": 78,
      "metadata": {
        "id": "X2bQSic4Sk6K"
      },
      "outputs": [],
      "source": [
        "# Step 2: Initialize embedding model\n",
        "embeddings = GoogleGenerativeAIEmbeddings(\n",
        "    model=\"models/gemini-embedding-001\",\n",
        "    google_api_key=gemini_api_key\n",
        ")\n"
      ]
    },
    {
      "cell_type": "code",
      "execution_count": 79,
      "metadata": {
        "id": "9F1CUJJeSxQM"
      },
      "outputs": [],
      "source": [
        "# Step 3: Create Chroma vector store in memory\n",
        "vectorstore = FAISS.from_documents(\n",
        "    documents=documents,\n",
        "    embedding=embeddings\n",
        ")"
      ]
    },
    {
      "cell_type": "markdown",
      "metadata": {},
      "source": [
        "## Enable MMR on the retriever\n",
        "\n",
        "Set `search_type=\"mmr\"` and `search_kwargs` (`k` and `lambda_mult`) to tune tradeoff between relevance and diversity. Lower `lambda_mult` gives more diversity."
      ]
    },
    {
      "cell_type": "code",
      "execution_count": 80,
      "metadata": {
        "id": "XG0wo-kgS9CS"
      },
      "outputs": [],
      "source": [
        "# Enable MMR in the retriever\n",
        "retriever = vectorstore.as_retriever(\n",
        "    search_type=\"mmr\",                   # <-- This enables MMR\n",
        "    search_kwargs={\"k\": 3, \"lambda_mult\": 0.5}  # k = top results, lambda_mult = relevance-diversity balance\n",
        ")"
      ]
    },
    {
      "cell_type": "markdown",
      "metadata": {},
      "source": [
        "## Example query & results\n",
        "\n",
        "Run a query and compare MMR results (`retriever.invoke`) with standard similarity search (`vectorstore.similarity_search`). Observe diversity differences."
      ]
    },
    {
      "cell_type": "code",
      "execution_count": 81,
      "metadata": {
        "id": "AAezPR8WTGu6"
      },
      "outputs": [],
      "source": [
        "query = \"Who are some of the most famous football players and what are their achievements?\""
      ]
    },
    {
      "cell_type": "code",
      "execution_count": 82,
      "metadata": {
        "id": "0Z_Lh629TTxC"
      },
      "outputs": [],
      "source": [
        "results = retriever.invoke(query)"
      ]
    },
    {
      "cell_type": "code",
      "execution_count": 83,
      "metadata": {
        "colab": {
          "base_uri": "https://localhost:8080/"
        },
        "id": "baLMJ9QATUn7",
        "outputId": "b331d5f9-6096-4811-d96a-a3465ae4800d"
      },
      "outputs": [
        {
          "name": "stdout",
          "output_type": "stream",
          "text": [
            "\n",
            "--- Result 1 ---\n",
            "Youth development programs and football academies play a key role in nurturing the next generation of football stars.\n",
            "\n",
            "--- Result 2 ---\n",
            "Cristiano Ronaldo is a legendary footballer celebrated for his athleticism, goal-scoring, and leadership on the field.\n",
            "\n",
            "--- Result 3 ---\n",
            "Football clubs like FC Barcelona, Real Madrid, and Manchester United have millions of fans worldwide.\n"
          ]
        }
      ],
      "source": [
        "for i, doc in enumerate(results):\n",
        "    print(f\"\\n--- Result {i+1} ---\")\n",
        "    print(doc.page_content)"
      ]
    },
    {
      "cell_type": "markdown",
      "metadata": {},
      "source": [
        "## Compare with similarity search\n",
        "\n",
        "Use `vectorstore.similarity_search` to compare the top-k results without MMR and observe redundancy vs diversity."
      ]
    },
    {
      "cell_type": "code",
      "execution_count": 84,
      "metadata": {
        "id": "ISjypLQfTXGt"
      },
      "outputs": [],
      "source": [
        "results = vectorstore.similarity_search(query, k=2)"
      ]
    },
    {
      "cell_type": "code",
      "execution_count": 85,
      "metadata": {
        "colab": {
          "base_uri": "https://localhost:8080/"
        },
        "id": "8nlkeeo2TcbL",
        "outputId": "e2264375-7e67-46ae-fe87-1bfd9e8ec30b"
      },
      "outputs": [
        {
          "name": "stdout",
          "output_type": "stream",
          "text": [
            "\n",
            "--- Result 1 ---\n",
            "Youth development programs and football academies play a key role in nurturing the next generation of football stars.\n",
            "\n",
            "--- Result 2 ---\n",
            "Football is the most popular sport in the world, played by over 250 million players across more than 200 countries.\n"
          ]
        }
      ],
      "source": [
        "for i, doc in enumerate(results):\n",
        "    print(f\"\\n--- Result {i+1} ---\")\n",
        "    print(doc.page_content)"
      ]
    },
    {
      "cell_type": "code",
      "execution_count": 85,
      "metadata": {
        "id": "CYcFn4EJTfcG"
      },
      "outputs": [],
      "source": []
    }
  ],
  "metadata": {
    "colab": {
      "provenance": []
    },
    "kernelspec": {
      "display_name": "Python 3",
      "name": "python3"
    },
    "language_info": {
      "name": "python"
    }
  },
  "nbformat": 4,
  "nbformat_minor": 0
}
