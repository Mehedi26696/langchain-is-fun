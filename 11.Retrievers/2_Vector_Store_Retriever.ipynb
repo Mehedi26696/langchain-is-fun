{
 "cells": [
  {
   "cell_type": "markdown",
   "metadata": {},
   "source": [
    "# Vector Store Retriever (LangChain + Chroma)\n",
    "\n",
    "Purpose: show how to create a Chroma vector store from documents using embeddings, convert it into a retriever, and run similarity searches.\n",
    "\n",
    "Run cells top-to-bottom. The first cell installs dependencies if needed."
   ]
  },
  {
   "cell_type": "code",
   "execution_count": null,
   "metadata": {
    "colab": {
     "base_uri": "https://localhost:8080/"
    },
    "id": "DJf_drKTNhrF",
    "outputId": "dd27b8f0-108c-49da-cbbc-58f6a745b092"
   },
   "outputs": [],
   "source": [
    "!pip install langchain chromadb openai tiktoken pypdf langchain_google_genai langchain-community wikipedia"
   ]
  },
  {
   "cell_type": "markdown",
   "metadata": {},
   "source": [
    "## Prerequisites & API keys\n",
    "\n",
    "- Ensure environment variables for any provider keys (e.g., `GEMINI_API_KEY`) are set.  \n",
    "- Install packages (first cell).  \n",
    "- Use small sample documents for quick runs."
   ]
  },
  {
   "cell_type": "code",
   "execution_count": 34,
   "metadata": {
    "id": "7mg5xz2lNnrf"
   },
   "outputs": [],
   "source": [
    "from google.colab import userdata\n",
    "gemini_api_key = userdata.get('GEMINI_API_KEY')"
   ]
  },
  {
   "cell_type": "markdown",
   "metadata": {},
   "source": [
    "## Imports & Clients\n",
    "\n",
    "This cell imports the Chroma vectorstore adapter, embeddings client, and `Document` model used to create records."
   ]
  },
  {
   "cell_type": "code",
   "execution_count": 46,
   "metadata": {
    "id": "0v6DGvGIRapH"
   },
   "outputs": [],
   "source": [
    "from langchain_community.vectorstores import Chroma\n",
    "from langchain_google_genai import GoogleGenerativeAIEmbeddings\n",
    "from langchain_core.documents import Document"
   ]
  },
  {
   "cell_type": "markdown",
   "metadata": {},
   "source": [
    "## Step 1 — Prepare source documents\n",
    "\n",
    "Provide the documents you want to embed. Keep content short for demos; in production chunk longer texts."
   ]
  },
  {
   "cell_type": "code",
   "execution_count": 47,
   "metadata": {
    "id": "F5RLeCVrSP6u"
   },
   "outputs": [],
   "source": [
    "# Step 1: Your source documents\n",
    "documents = [\n",
    "    Document(page_content=\"Football is the most popular sport in the world, played by over 250 million players across more than 200 countries.\"),\n",
    "    Document(page_content=\"Lionel Messi is known for his incredible dribbling, vision, and goal-scoring ability, earning multiple Ballon d'Or awards.\"),\n",
    "    Document(page_content=\"The FIFA World Cup is held every four years and is the most prestigious international football tournament.\"),\n",
    "    Document(page_content=\"Tactics in football involve formations, pressing strategies, and player roles that determine how a team controls the game.\"),\n",
    "]"
   ]
  },
  {
   "cell_type": "markdown",
   "metadata": {},
   "source": [
    "## Step 2 — Initialize embeddings\n",
    "\n",
    "Create an embeddings client. The example uses Google Gemini embeddings; replace with OpenAI or other providers as needed."
   ]
  },
  {
   "cell_type": "code",
   "execution_count": 48,
   "metadata": {
    "id": "X2bQSic4Sk6K"
   },
   "outputs": [],
   "source": [
    "# Step 2: Initialize embedding model\n",
    "embeddings = GoogleGenerativeAIEmbeddings(\n",
    "    model=\"models/gemini-embedding-001\",\n",
    "    google_api_key=gemini_api_key\n",
    ")\n"
   ]
  },
  {
   "cell_type": "markdown",
   "metadata": {},
   "source": [
    "## Step 3 — Create Chroma vector store\n",
    "\n",
    "Create the Chroma collection and persist it. Use `persist_directory` to keep the DB between runs."
   ]
  },
  {
   "cell_type": "code",
   "execution_count": 52,
   "metadata": {
    "id": "9F1CUJJeSxQM"
   },
   "outputs": [],
   "source": [
    "# Step 3: Create Chroma vector store in memory\n",
    "vectorstore = Chroma.from_documents(\n",
    "    documents=documents,\n",
    "    embedding=embeddings,\n",
    "    persist_directory=\"my_chroma_db\",\n",
    "    collection_name=\"my_collection\"\n",
    ")"
   ]
  },
  {
   "cell_type": "markdown",
   "metadata": {},
   "source": [
    "## Step 4 — Convert vector store to retriever\n",
    "\n",
    "Use `as_retriever` to get a retriever with search parameters (e.g., `k`). This retriever can be used in RAG pipelines."
   ]
  },
  {
   "cell_type": "code",
   "execution_count": 53,
   "metadata": {
    "id": "XG0wo-kgS9CS"
   },
   "outputs": [],
   "source": [
    "# Step 4: Convert vectorstore into a retriever\n",
    "retriever = vectorstore.as_retriever(search_kwargs={\"k\": 2})"
   ]
  },
  {
   "cell_type": "markdown",
   "metadata": {},
   "source": [
    "## Query & view results\n",
    "\n",
    "Run a query using the retriever and inspect the returned `Document` objects. You can also call `vectorstore.similarity_search(...)` directly."
   ]
  },
  {
   "cell_type": "code",
   "execution_count": 54,
   "metadata": {
    "id": "AAezPR8WTGu6"
   },
   "outputs": [],
   "source": [
    "query = \"Who is Lionel Messi and what makes him a great football player?\""
   ]
  },
  {
   "cell_type": "code",
   "execution_count": 55,
   "metadata": {
    "id": "0Z_Lh629TTxC"
   },
   "outputs": [],
   "source": [
    "results = retriever.invoke(query)"
   ]
  },
  {
   "cell_type": "code",
   "execution_count": 56,
   "metadata": {
    "colab": {
     "base_uri": "https://localhost:8080/"
    },
    "id": "baLMJ9QATUn7",
    "outputId": "056a47e3-f0e2-4775-aef2-fe874bee773f"
   },
   "outputs": [
    {
     "name": "stdout",
     "output_type": "stream",
     "text": [
      "\n",
      "--- Result 1 ---\n",
      "Lionel Messi is known for his incredible dribbling, vision, and goal-scoring ability, earning multiple Ballon d'Or awards.\n",
      "\n",
      "--- Result 2 ---\n",
      "Football is the most popular sport in the world, played by over 250 million players across more than 200 countries.\n"
     ]
    }
   ],
   "source": [
    "for i, doc in enumerate(results):\n",
    "    print(f\"\\n--- Result {i+1} ---\")\n",
    "    print(doc.page_content)"
   ]
  },
  {
   "cell_type": "markdown",
   "metadata": {},
   "source": [
    "## Similarity search vs Retriever\n",
    "\n",
    "`retriever.invoke(query)` returns `Document` objects via the retriever interface. `vectorstore.similarity_search(query, k)` uses the vector store API directly and may return different metadata shapes."
   ]
  },
  {
   "cell_type": "code",
   "execution_count": 57,
   "metadata": {
    "id": "ISjypLQfTXGt"
   },
   "outputs": [],
   "source": [
    "results = vectorstore.similarity_search(query, k=2)"
   ]
  },
  {
   "cell_type": "code",
   "execution_count": 58,
   "metadata": {
    "colab": {
     "base_uri": "https://localhost:8080/"
    },
    "id": "8nlkeeo2TcbL",
    "outputId": "a0404936-1b6a-4fa6-be39-184747dc0fe8"
   },
   "outputs": [
    {
     "name": "stdout",
     "output_type": "stream",
     "text": [
      "\n",
      "--- Result 1 ---\n",
      "Lionel Messi is known for his incredible dribbling, vision, and goal-scoring ability, earning multiple Ballon d'Or awards.\n",
      "\n",
      "--- Result 2 ---\n",
      "Football is the most popular sport in the world, played by over 250 million players across more than 200 countries.\n"
     ]
    }
   ],
   "source": [
    "for i, doc in enumerate(results):\n",
    "    print(f\"\\n--- Result {i+1} ---\")\n",
    "    print(doc.page_content)"
   ]
  },
  {
   "cell_type": "code",
   "execution_count": null,
   "metadata": {
    "id": "CYcFn4EJTfcG"
   },
   "outputs": [],
   "source": []
  }
 ],
 "metadata": {
  "colab": {
   "provenance": []
  },
  "kernelspec": {
   "display_name": "Python 3",
   "name": "python3"
  },
  "language_info": {
   "name": "python"
  }
 },
 "nbformat": 4,
 "nbformat_minor": 0
}
