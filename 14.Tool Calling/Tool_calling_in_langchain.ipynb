{
  "nbformat": 4,
  "nbformat_minor": 0,
  "metadata": {
    "colab": {
      "provenance": []
    },
    "kernelspec": {
      "name": "python3",
      "display_name": "Python 3"
    },
    "language_info": {
      "name": "python"
    }
  },
  "cells": [
    {
      "cell_type": "code",
      "source": [
        "!pip install -q langchain_google_genai langchain-core requests"
      ],
      "metadata": {
        "id": "BhsAIGxgQh2H"
      },
      "execution_count": 282,
      "outputs": []
    },
    {
      "cell_type": "code",
      "source": [
        "from langchain_google_genai import ChatGoogleGenerativeAI\n",
        "from langchain_core.tools import tool\n",
        "from langchain_core.messages import HumanMessage, ToolMessage\n",
        "import requests"
      ],
      "metadata": {
        "id": "uWMBgyx1Q3Ek"
      },
      "execution_count": 283,
      "outputs": []
    },
    {
      "cell_type": "code",
      "source": [
        "from google.colab import userdata\n",
        "gemini_api_key = userdata.get('GEMINI_API_KEY')"
      ],
      "metadata": {
        "id": "hiHD1rXSc6X9"
      },
      "execution_count": 284,
      "outputs": []
    },
    {
      "cell_type": "markdown",
      "source": [
        "# Step-1: Tool Creation"
      ],
      "metadata": {
        "id": "K9Jj8hx2irOY"
      }
    },
    {
      "cell_type": "code",
      "source": [
        "# tool create\n",
        "\n",
        "@tool\n",
        "def multiply(a: int, b: int) -> int:\n",
        "  \"\"\"Given 2 numbers a and b this tool returns their product\"\"\"\n",
        "  return a * b"
      ],
      "metadata": {
        "id": "Ppi8jSXxT6EA"
      },
      "execution_count": 285,
      "outputs": []
    },
    {
      "cell_type": "code",
      "source": [
        "print(multiply.invoke({'a':3, 'b':4}))"
      ],
      "metadata": {
        "colab": {
          "base_uri": "https://localhost:8080/"
        },
        "id": "u-eRpimtrUgc",
        "outputId": "63c8326f-c829-4c7b-9c01-1a0c76d28565"
      },
      "execution_count": 286,
      "outputs": [
        {
          "output_type": "stream",
          "name": "stdout",
          "text": [
            "12\n"
          ]
        }
      ]
    },
    {
      "cell_type": "code",
      "source": [
        "multiply.name"
      ],
      "metadata": {
        "colab": {
          "base_uri": "https://localhost:8080/",
          "height": 35
        },
        "id": "SSi7Xn0jrZ5Y",
        "outputId": "f0296904-8192-4922-f5d8-01fa0bf91502"
      },
      "execution_count": 287,
      "outputs": [
        {
          "output_type": "execute_result",
          "data": {
            "text/plain": [
              "'multiply'"
            ],
            "application/vnd.google.colaboratory.intrinsic+json": {
              "type": "string"
            }
          },
          "metadata": {},
          "execution_count": 287
        }
      ]
    },
    {
      "cell_type": "code",
      "source": [
        "multiply.description"
      ],
      "metadata": {
        "colab": {
          "base_uri": "https://localhost:8080/",
          "height": 35
        },
        "id": "vNcN0ngarb9c",
        "outputId": "0f05515c-7994-48bb-c097-3ed72597fef9"
      },
      "execution_count": 288,
      "outputs": [
        {
          "output_type": "execute_result",
          "data": {
            "text/plain": [
              "'Given 2 numbers a and b this tool returns their product'"
            ],
            "application/vnd.google.colaboratory.intrinsic+json": {
              "type": "string"
            }
          },
          "metadata": {},
          "execution_count": 288
        }
      ]
    },
    {
      "cell_type": "code",
      "source": [
        "multiply.args"
      ],
      "metadata": {
        "colab": {
          "base_uri": "https://localhost:8080/"
        },
        "id": "3ZdJuKhWrd6w",
        "outputId": "1625c94e-133c-41e9-8677-c57a6a15f0dc"
      },
      "execution_count": 289,
      "outputs": [
        {
          "output_type": "execute_result",
          "data": {
            "text/plain": [
              "{'a': {'title': 'A', 'type': 'integer'},\n",
              " 'b': {'title': 'B', 'type': 'integer'}}"
            ]
          },
          "metadata": {},
          "execution_count": 289
        }
      ]
    },
    {
      "cell_type": "markdown",
      "source": [
        "# Step-2: Tool Binding"
      ],
      "metadata": {
        "id": "0M2N07Y3iyx9"
      }
    },
    {
      "cell_type": "code",
      "source": [
        "llm =ChatGoogleGenerativeAI(\n",
        "    model=\"gemini-2.5-flash\",\n",
        "    google_api_key=gemini_api_key\n",
        ")"
      ],
      "metadata": {
        "id": "goFX0Z4PrjN7"
      },
      "execution_count": 290,
      "outputs": []
    },
    {
      "cell_type": "code",
      "source": [
        "llm.invoke('hi')"
      ],
      "metadata": {
        "id": "4srYldghox9V",
        "outputId": "5865d9b3-78d8-4b61-ca0d-86e07f9871d9",
        "colab": {
          "base_uri": "https://localhost:8080/"
        }
      },
      "execution_count": 291,
      "outputs": [
        {
          "output_type": "execute_result",
          "data": {
            "text/plain": [
              "AIMessage(content='Hi there! How can I help you today?', additional_kwargs={}, response_metadata={'prompt_feedback': {'block_reason': 0, 'safety_ratings': []}, 'finish_reason': 'STOP', 'model_name': 'gemini-2.5-flash', 'safety_ratings': []}, id='run--3959bc72-d89f-4162-b7bb-b88365befbef-0', usage_metadata={'input_tokens': 2, 'output_tokens': 36, 'total_tokens': 38, 'input_token_details': {'cache_read': 0}, 'output_token_details': {'reasoning': 26}})"
            ]
          },
          "metadata": {},
          "execution_count": 291
        }
      ]
    },
    {
      "cell_type": "code",
      "source": [
        "llm_with_tools = llm.bind_tools([multiply])"
      ],
      "metadata": {
        "id": "v3x5N-V6rlHe"
      },
      "execution_count": 292,
      "outputs": []
    },
    {
      "cell_type": "code",
      "source": [
        "llm_with_tools.invoke('Hi how are you')"
      ],
      "metadata": {
        "colab": {
          "base_uri": "https://localhost:8080/"
        },
        "id": "6aLDyLhnrrxu",
        "outputId": "2fab4dc6-bb91-4e98-f6f4-b790b6924dd0"
      },
      "execution_count": 293,
      "outputs": [
        {
          "output_type": "execute_result",
          "data": {
            "text/plain": [
              "AIMessage(content=\"I'm doing well, thank you! How can I help you today?\", additional_kwargs={}, response_metadata={'prompt_feedback': {'block_reason': 0, 'safety_ratings': []}, 'finish_reason': 'STOP', 'model_name': 'gemini-2.5-flash', 'safety_ratings': []}, id='run--a8bb7b65-0354-461c-a242-ea83a706d2e3-0', usage_metadata={'input_tokens': 58, 'output_tokens': 16, 'total_tokens': 74, 'input_token_details': {'cache_read': 0}})"
            ]
          },
          "metadata": {},
          "execution_count": 293
        }
      ]
    },
    {
      "cell_type": "markdown",
      "source": [
        "# Step-3: Tool Calling"
      ],
      "metadata": {
        "id": "sgVy97gGjYZ6"
      }
    },
    {
      "cell_type": "code",
      "source": [
        "query = HumanMessage('can you multiply 3 with 1000')"
      ],
      "metadata": {
        "id": "0EEB2dwtzXmS"
      },
      "execution_count": 294,
      "outputs": []
    },
    {
      "cell_type": "code",
      "source": [
        "messages = [query]"
      ],
      "metadata": {
        "id": "nNAUAM_Szb27"
      },
      "execution_count": 295,
      "outputs": []
    },
    {
      "cell_type": "code",
      "source": [
        "messages"
      ],
      "metadata": {
        "colab": {
          "base_uri": "https://localhost:8080/"
        },
        "id": "-n2U76sWzh1T",
        "outputId": "f9f48983-7a66-4444-eeca-5bcca0553124"
      },
      "execution_count": 296,
      "outputs": [
        {
          "output_type": "execute_result",
          "data": {
            "text/plain": [
              "[HumanMessage(content='can you multiply 3 with 1000', additional_kwargs={}, response_metadata={})]"
            ]
          },
          "metadata": {},
          "execution_count": 296
        }
      ]
    },
    {
      "cell_type": "code",
      "source": [
        "result = llm_with_tools.invoke(messages)"
      ],
      "metadata": {
        "id": "vXk2J6QXuaTM"
      },
      "execution_count": 297,
      "outputs": []
    },
    {
      "cell_type": "code",
      "source": [
        "messages.append(result)"
      ],
      "metadata": {
        "id": "wXBI8YbUynm4"
      },
      "execution_count": 298,
      "outputs": []
    },
    {
      "cell_type": "code",
      "source": [
        "messages"
      ],
      "metadata": {
        "colab": {
          "base_uri": "https://localhost:8080/"
        },
        "id": "VVRqi5IUzqRO",
        "outputId": "68892a4a-79b7-45c6-c277-bb397d7de559"
      },
      "execution_count": 299,
      "outputs": [
        {
          "output_type": "execute_result",
          "data": {
            "text/plain": [
              "[HumanMessage(content='can you multiply 3 with 1000', additional_kwargs={}, response_metadata={}),\n",
              " AIMessage(content='', additional_kwargs={'function_call': {'name': 'multiply', 'arguments': '{\"a\": 3, \"b\": 1000}'}}, response_metadata={'prompt_feedback': {'block_reason': 0, 'safety_ratings': []}, 'finish_reason': 'STOP', 'model_name': 'gemini-2.5-flash', 'safety_ratings': []}, id='run--d77bdd7d-7b6e-4b4e-b443-5db37d6338fb-0', tool_calls=[{'name': 'multiply', 'args': {'a': 3, 'b': 1000}, 'id': 'e9784efe-b50e-42dd-9221-37feda113708', 'type': 'tool_call'}], usage_metadata={'input_tokens': 65, 'output_tokens': 97, 'total_tokens': 162, 'input_token_details': {'cache_read': 0}, 'output_token_details': {'reasoning': 76}})]"
            ]
          },
          "metadata": {},
          "execution_count": 299
        }
      ]
    },
    {
      "cell_type": "code",
      "source": [
        "result.tool_calls"
      ],
      "metadata": {
        "colab": {
          "base_uri": "https://localhost:8080/"
        },
        "id": "P9CvYuM-hT02",
        "outputId": "2cbc2cf1-afc2-4b7a-c81a-1bf0b6c479c2"
      },
      "execution_count": 300,
      "outputs": [
        {
          "output_type": "execute_result",
          "data": {
            "text/plain": [
              "[{'name': 'multiply',\n",
              "  'args': {'a': 3, 'b': 1000},\n",
              "  'id': 'e9784efe-b50e-42dd-9221-37feda113708',\n",
              "  'type': 'tool_call'}]"
            ]
          },
          "metadata": {},
          "execution_count": 300
        }
      ]
    },
    {
      "cell_type": "code",
      "source": [
        "result.tool_calls[0]"
      ],
      "metadata": {
        "colab": {
          "base_uri": "https://localhost:8080/"
        },
        "id": "tdI_XIW6hkHi",
        "outputId": "2668bae4-2190-45eb-c532-91e49f7bc4d4"
      },
      "execution_count": 301,
      "outputs": [
        {
          "output_type": "execute_result",
          "data": {
            "text/plain": [
              "{'name': 'multiply',\n",
              " 'args': {'a': 3, 'b': 1000},\n",
              " 'id': 'e9784efe-b50e-42dd-9221-37feda113708',\n",
              " 'type': 'tool_call'}"
            ]
          },
          "metadata": {},
          "execution_count": 301
        }
      ]
    },
    {
      "cell_type": "code",
      "source": [
        "result.tool_calls[0]['args']"
      ],
      "metadata": {
        "colab": {
          "base_uri": "https://localhost:8080/"
        },
        "id": "kYP9G1TEh0eS",
        "outputId": "6fb66786-f675-4167-dbd1-9aa3903b5ada"
      },
      "execution_count": 302,
      "outputs": [
        {
          "output_type": "execute_result",
          "data": {
            "text/plain": [
              "{'a': 3, 'b': 1000}"
            ]
          },
          "metadata": {},
          "execution_count": 302
        }
      ]
    },
    {
      "cell_type": "code",
      "source": [
        "tool_result = multiply.invoke(result.tool_calls[0]['args'])"
      ],
      "metadata": {
        "id": "hyxt7Xedh49O"
      },
      "execution_count": 303,
      "outputs": []
    },
    {
      "cell_type": "code",
      "source": [
        "tool_result"
      ],
      "metadata": {
        "colab": {
          "base_uri": "https://localhost:8080/"
        },
        "id": "EClBr-vEh7Xc",
        "outputId": "c386bdf0-72a5-426d-d693-434eceeb3d01"
      },
      "execution_count": 304,
      "outputs": [
        {
          "output_type": "execute_result",
          "data": {
            "text/plain": [
              "3000"
            ]
          },
          "metadata": {},
          "execution_count": 304
        }
      ]
    },
    {
      "cell_type": "code",
      "source": [
        "tool_result = multiply.invoke(result.tool_calls[0])"
      ],
      "metadata": {
        "id": "vBWmBt2cukKY"
      },
      "execution_count": 305,
      "outputs": []
    },
    {
      "cell_type": "code",
      "source": [
        "tool_result"
      ],
      "metadata": {
        "colab": {
          "base_uri": "https://localhost:8080/"
        },
        "id": "hlrs709a0UYJ",
        "outputId": "c3bb28b6-a208-4af1-ca89-5d4d17c26595"
      },
      "execution_count": 306,
      "outputs": [
        {
          "output_type": "execute_result",
          "data": {
            "text/plain": [
              "ToolMessage(content='3000', name='multiply', tool_call_id='e9784efe-b50e-42dd-9221-37feda113708')"
            ]
          },
          "metadata": {},
          "execution_count": 306
        }
      ]
    },
    {
      "cell_type": "code",
      "source": [
        "messages.append(tool_result)"
      ],
      "metadata": {
        "id": "y-22Hb_GyxBZ"
      },
      "execution_count": 307,
      "outputs": []
    },
    {
      "cell_type": "code",
      "source": [
        "messages"
      ],
      "metadata": {
        "colab": {
          "base_uri": "https://localhost:8080/"
        },
        "id": "W9cOgYCYzzrY",
        "outputId": "52ec3e3f-10fe-47a0-9a76-ec2cc00de7e8"
      },
      "execution_count": 308,
      "outputs": [
        {
          "output_type": "execute_result",
          "data": {
            "text/plain": [
              "[HumanMessage(content='can you multiply 3 with 1000', additional_kwargs={}, response_metadata={}),\n",
              " AIMessage(content='', additional_kwargs={'function_call': {'name': 'multiply', 'arguments': '{\"a\": 3, \"b\": 1000}'}}, response_metadata={'prompt_feedback': {'block_reason': 0, 'safety_ratings': []}, 'finish_reason': 'STOP', 'model_name': 'gemini-2.5-flash', 'safety_ratings': []}, id='run--d77bdd7d-7b6e-4b4e-b443-5db37d6338fb-0', tool_calls=[{'name': 'multiply', 'args': {'a': 3, 'b': 1000}, 'id': 'e9784efe-b50e-42dd-9221-37feda113708', 'type': 'tool_call'}], usage_metadata={'input_tokens': 65, 'output_tokens': 97, 'total_tokens': 162, 'input_token_details': {'cache_read': 0}, 'output_token_details': {'reasoning': 76}}),\n",
              " ToolMessage(content='3000', name='multiply', tool_call_id='e9784efe-b50e-42dd-9221-37feda113708')]"
            ]
          },
          "metadata": {},
          "execution_count": 308
        }
      ]
    },
    {
      "cell_type": "markdown",
      "source": [
        "# Step-4: Tool Execution"
      ],
      "metadata": {
        "id": "VbofVvsbj1CF"
      }
    },
    {
      "cell_type": "code",
      "source": [
        "llm_with_tools.invoke(messages)"
      ],
      "metadata": {
        "colab": {
          "base_uri": "https://localhost:8080/"
        },
        "id": "5MvtI2UCjsT1",
        "outputId": "b8f5362e-6db3-4f7b-a16d-e691e0bcd0a4"
      },
      "execution_count": 309,
      "outputs": [
        {
          "output_type": "execute_result",
          "data": {
            "text/plain": [
              "AIMessage(content='The product of 3 and 1000 is 3000.', additional_kwargs={}, response_metadata={'prompt_feedback': {'block_reason': 0, 'safety_ratings': []}, 'finish_reason': 'STOP', 'model_name': 'gemini-2.5-flash', 'safety_ratings': []}, id='run--c5125987-11bc-4a65-9d22-c05d98271234-0', usage_metadata={'input_tokens': 102, 'output_tokens': 18, 'total_tokens': 120, 'input_token_details': {'cache_read': 0}})"
            ]
          },
          "metadata": {},
          "execution_count": 309
        }
      ]
    },
    {
      "cell_type": "code",
      "source": [
        "llm_with_tools.invoke(messages).content"
      ],
      "metadata": {
        "colab": {
          "base_uri": "https://localhost:8080/",
          "height": 35
        },
        "id": "ElWievBEz0nt",
        "outputId": "ce4ad404-6ed8-43f1-b8ce-92992a140855"
      },
      "execution_count": 310,
      "outputs": [
        {
          "output_type": "execute_result",
          "data": {
            "text/plain": [
              "'The product of 3 and 1000 is 3000.'"
            ],
            "application/vnd.google.colaboratory.intrinsic+json": {
              "type": "string"
            }
          },
          "metadata": {},
          "execution_count": 310
        }
      ]
    },
    {
      "cell_type": "markdown",
      "source": [
        "# Example: Currency Converter"
      ],
      "metadata": {
        "id": "3zcNolyOkZbT"
      }
    },
    {
      "cell_type": "markdown",
      "source": [
        "# Tool creation"
      ],
      "metadata": {
        "id": "u-vq6-9hkfCI"
      }
    },
    {
      "cell_type": "code",
      "source": [
        "from google.colab import userdata\n",
        "currency_api_key = userdata.get('CURRENCY_API')"
      ],
      "metadata": {
        "id": "acAnCe59mAy4"
      },
      "execution_count": 311,
      "outputs": []
    },
    {
      "cell_type": "code",
      "source": [
        "from langchain_core.tools import InjectedToolArg\n",
        "from typing import Annotated\n",
        "\n",
        "@tool\n",
        "def get_conversion_factor(base_currency: str, target_currency: str) -> float:\n",
        "  \"\"\"\n",
        "  This function fetches the currency conversion factor between a given base currency and a target currency\n",
        "  \"\"\"\n",
        "  url = f'https://v6.exchangerate-api.com/v6/{currency_api_key}/pair/{base_currency}/{target_currency}'\n",
        "\n",
        "  response = requests.get(url)\n",
        "\n",
        "  return response.json()\n",
        "\n",
        "@tool\n",
        "def convert(base_currency_value: int, conversion_rate: Annotated[float, InjectedToolArg]) -> float:\n",
        "  \"\"\"\n",
        "  given a currency conversion rate this function calculates the target currency value from a given base currency value\n",
        "  \"\"\"\n",
        "\n",
        "  return base_currency_value * conversion_rate\n"
      ],
      "metadata": {
        "id": "m6fTZVbSz9x_"
      },
      "execution_count": 312,
      "outputs": []
    },
    {
      "cell_type": "code",
      "source": [
        "get_conversion_factor.args"
      ],
      "metadata": {
        "colab": {
          "base_uri": "https://localhost:8080/"
        },
        "id": "md6O8eo6lW9H",
        "outputId": "71eca27f-6e66-4121-9f12-d2f7fb260c33"
      },
      "execution_count": 313,
      "outputs": [
        {
          "output_type": "execute_result",
          "data": {
            "text/plain": [
              "{'base_currency': {'title': 'Base Currency', 'type': 'string'},\n",
              " 'target_currency': {'title': 'Target Currency', 'type': 'string'}}"
            ]
          },
          "metadata": {},
          "execution_count": 313
        }
      ]
    },
    {
      "cell_type": "code",
      "source": [
        "convert.args"
      ],
      "metadata": {
        "colab": {
          "base_uri": "https://localhost:8080/"
        },
        "id": "TNIqtU-_DDVv",
        "outputId": "905ad29b-1f3b-4bdd-a8df-b0854db07f3c"
      },
      "execution_count": 314,
      "outputs": [
        {
          "output_type": "execute_result",
          "data": {
            "text/plain": [
              "{'base_currency_value': {'title': 'Base Currency Value', 'type': 'integer'},\n",
              " 'conversion_rate': {'title': 'Conversion Rate', 'type': 'number'}}"
            ]
          },
          "metadata": {},
          "execution_count": 314
        }
      ]
    },
    {
      "cell_type": "code",
      "source": [
        "get_conversion_factor.invoke({'base_currency':'USD','target_currency':'BDT'})"
      ],
      "metadata": {
        "colab": {
          "base_uri": "https://localhost:8080/"
        },
        "id": "nO_FhilZ-DYS",
        "outputId": "9a90dc19-83ac-4543-ccba-58a0964a2f59"
      },
      "execution_count": 315,
      "outputs": [
        {
          "output_type": "execute_result",
          "data": {
            "text/plain": [
              "{'result': 'success',\n",
              " 'documentation': 'https://www.exchangerate-api.com/docs',\n",
              " 'terms_of_use': 'https://www.exchangerate-api.com/terms',\n",
              " 'time_last_update_unix': 1759968002,\n",
              " 'time_last_update_utc': 'Thu, 09 Oct 2025 00:00:02 +0000',\n",
              " 'time_next_update_unix': 1760054402,\n",
              " 'time_next_update_utc': 'Fri, 10 Oct 2025 00:00:02 +0000',\n",
              " 'base_code': 'USD',\n",
              " 'target_code': 'BDT',\n",
              " 'conversion_rate': 121.7189}"
            ]
          },
          "metadata": {},
          "execution_count": 315
        }
      ]
    },
    {
      "cell_type": "code",
      "source": [
        "convert.invoke({'base_currency_value':10, 'conversion_rate':121.7189})"
      ],
      "metadata": {
        "colab": {
          "base_uri": "https://localhost:8080/"
        },
        "id": "z25u1BbW-G8A",
        "outputId": "764b6363-c61d-4dc2-be33-1c8475220758"
      },
      "execution_count": 316,
      "outputs": [
        {
          "output_type": "execute_result",
          "data": {
            "text/plain": [
              "1217.189"
            ]
          },
          "metadata": {},
          "execution_count": 316
        }
      ]
    },
    {
      "cell_type": "markdown",
      "source": [
        "# Tool Binding"
      ],
      "metadata": {
        "id": "Q21qCFL9mvBB"
      }
    },
    {
      "cell_type": "code",
      "source": [
        "llm =ChatGoogleGenerativeAI(\n",
        "    model=\"gemini-2.5-flash\",\n",
        "    google_api_key=gemini_api_key\n",
        ")"
      ],
      "metadata": {
        "id": "NzoScebe_ROV"
      },
      "execution_count": 317,
      "outputs": []
    },
    {
      "cell_type": "code",
      "source": [
        "llm_with_tools = llm.bind_tools([get_conversion_factor, convert])"
      ],
      "metadata": {
        "id": "l-tazhPJ_gQQ"
      },
      "execution_count": 318,
      "outputs": []
    },
    {
      "cell_type": "markdown",
      "source": [
        "# Tool Calling"
      ],
      "metadata": {
        "id": "feDmP5c_uFJi"
      }
    },
    {
      "cell_type": "code",
      "source": [
        "messages = [\n",
        "    HumanMessage(\n",
        "        \"First, use the get_conversion_factor tool to find the conversion factor between BDT and USD. \"\n",
        "        \"Then, use the convert tool to convert 10 BDT to USD using that conversion factor. \"\n",
        "        \"Return both the conversion factor and the converted amount.\"\n",
        "    )\n",
        "]"
      ],
      "metadata": {
        "id": "l8yTOagt_lv6"
      },
      "execution_count": 319,
      "outputs": []
    },
    {
      "cell_type": "code",
      "source": [
        "messages"
      ],
      "metadata": {
        "colab": {
          "base_uri": "https://localhost:8080/"
        },
        "id": "09KThK4Q_xeG",
        "outputId": "4533dc66-1d62-40d2-b471-1429527f3899"
      },
      "execution_count": 320,
      "outputs": [
        {
          "output_type": "execute_result",
          "data": {
            "text/plain": [
              "[HumanMessage(content='First, use the get_conversion_factor tool to find the conversion factor between BDT and USD. Then, use the convert tool to convert 10 BDT to USD using that conversion factor. Return both the conversion factor and the converted amount.', additional_kwargs={}, response_metadata={})]"
            ]
          },
          "metadata": {},
          "execution_count": 320
        }
      ]
    },
    {
      "cell_type": "code",
      "source": [
        "ai_message = llm_with_tools.invoke(messages)"
      ],
      "metadata": {
        "id": "lYlRZBnv_ySh"
      },
      "execution_count": 321,
      "outputs": []
    },
    {
      "cell_type": "code",
      "source": [
        "ai_message"
      ],
      "metadata": {
        "colab": {
          "base_uri": "https://localhost:8080/"
        },
        "id": "hacGrsNZnGUX",
        "outputId": "a2d42252-1ac0-4500-82a6-a253a4da5ce9"
      },
      "execution_count": 322,
      "outputs": [
        {
          "output_type": "execute_result",
          "data": {
            "text/plain": [
              "AIMessage(content='', additional_kwargs={'function_call': {'name': 'get_conversion_factor', 'arguments': '{\"target_currency\": \"USD\", \"base_currency\": \"BDT\"}'}}, response_metadata={'prompt_feedback': {'block_reason': 0, 'safety_ratings': []}, 'finish_reason': 'STOP', 'model_name': 'gemini-2.5-flash', 'safety_ratings': []}, id='run--eb8feeee-3a89-4c46-b952-14cd13ad88d5-0', tool_calls=[{'name': 'get_conversion_factor', 'args': {'target_currency': 'USD', 'base_currency': 'BDT'}, 'id': '494af291-4beb-41a9-b169-7a3a04879e21', 'type': 'tool_call'}], usage_metadata={'input_tokens': 177, 'output_tokens': 153, 'total_tokens': 330, 'input_token_details': {'cache_read': 0}, 'output_token_details': {'reasoning': 127}})"
            ]
          },
          "metadata": {},
          "execution_count": 322
        }
      ]
    },
    {
      "cell_type": "code",
      "source": [
        "messages.append(ai_message)"
      ],
      "metadata": {
        "id": "Q5queI56Xy-m"
      },
      "execution_count": 323,
      "outputs": []
    },
    {
      "cell_type": "code",
      "source": [
        "messages"
      ],
      "metadata": {
        "colab": {
          "base_uri": "https://localhost:8080/"
        },
        "id": "VTg-ODTrnLfT",
        "outputId": "97ebd229-0f0e-4e69-8053-64a067a5e65e"
      },
      "execution_count": 324,
      "outputs": [
        {
          "output_type": "execute_result",
          "data": {
            "text/plain": [
              "[HumanMessage(content='First, use the get_conversion_factor tool to find the conversion factor between BDT and USD. Then, use the convert tool to convert 10 BDT to USD using that conversion factor. Return both the conversion factor and the converted amount.', additional_kwargs={}, response_metadata={}),\n",
              " AIMessage(content='', additional_kwargs={'function_call': {'name': 'get_conversion_factor', 'arguments': '{\"target_currency\": \"USD\", \"base_currency\": \"BDT\"}'}}, response_metadata={'prompt_feedback': {'block_reason': 0, 'safety_ratings': []}, 'finish_reason': 'STOP', 'model_name': 'gemini-2.5-flash', 'safety_ratings': []}, id='run--eb8feeee-3a89-4c46-b952-14cd13ad88d5-0', tool_calls=[{'name': 'get_conversion_factor', 'args': {'target_currency': 'USD', 'base_currency': 'BDT'}, 'id': '494af291-4beb-41a9-b169-7a3a04879e21', 'type': 'tool_call'}], usage_metadata={'input_tokens': 177, 'output_tokens': 153, 'total_tokens': 330, 'input_token_details': {'cache_read': 0}, 'output_token_details': {'reasoning': 127}})]"
            ]
          },
          "metadata": {},
          "execution_count": 324
        }
      ]
    },
    {
      "cell_type": "code",
      "source": [
        "ai_message.tool_calls"
      ],
      "metadata": {
        "colab": {
          "base_uri": "https://localhost:8080/"
        },
        "id": "gwqtztEJ_38D",
        "outputId": "9f2c28a8-eede-4f0b-cc33-2b0e661da6a6"
      },
      "execution_count": 325,
      "outputs": [
        {
          "output_type": "execute_result",
          "data": {
            "text/plain": [
              "[{'name': 'get_conversion_factor',\n",
              "  'args': {'target_currency': 'USD', 'base_currency': 'BDT'},\n",
              "  'id': '494af291-4beb-41a9-b169-7a3a04879e21',\n",
              "  'type': 'tool_call'}]"
            ]
          },
          "metadata": {},
          "execution_count": 325
        }
      ]
    },
    {
      "cell_type": "code",
      "source": [
        "ai_message.tool_calls[0]"
      ],
      "metadata": {
        "colab": {
          "base_uri": "https://localhost:8080/"
        },
        "id": "LCwn0mXKqwpW",
        "outputId": "03c2a852-f965-4b8f-bf91-9bdae9fcb605"
      },
      "execution_count": 326,
      "outputs": [
        {
          "output_type": "execute_result",
          "data": {
            "text/plain": [
              "{'name': 'get_conversion_factor',\n",
              " 'args': {'target_currency': 'USD', 'base_currency': 'BDT'},\n",
              " 'id': '494af291-4beb-41a9-b169-7a3a04879e21',\n",
              " 'type': 'tool_call'}"
            ]
          },
          "metadata": {},
          "execution_count": 326
        }
      ]
    },
    {
      "cell_type": "code",
      "source": [
        "import json\n",
        "\n",
        "for tool_call in ai_message.tool_calls:\n",
        "  # execute the 1st tool and get the value of conversion rate\n",
        "  if tool_call['name'] == 'get_conversion_factor':\n",
        "    tool_message1 = get_conversion_factor.invoke(tool_call)\n",
        "    # fetch this conversion rate\n",
        "    conversion_rate = json.loads(tool_message1.content)['conversion_rate']\n",
        "    # append this tool message to messages list\n",
        "    messages.append(tool_message1)\n",
        "\n"
      ],
      "metadata": {
        "id": "1RiGaE63Iai5"
      },
      "execution_count": 327,
      "outputs": []
    },
    {
      "cell_type": "code",
      "source": [
        "messages"
      ],
      "metadata": {
        "colab": {
          "base_uri": "https://localhost:8080/"
        },
        "id": "5ZVYEJ1tUUQH",
        "outputId": "8f23ff1b-c612-41d4-c7be-8715739a4478"
      },
      "execution_count": 328,
      "outputs": [
        {
          "output_type": "execute_result",
          "data": {
            "text/plain": [
              "[HumanMessage(content='First, use the get_conversion_factor tool to find the conversion factor between BDT and USD. Then, use the convert tool to convert 10 BDT to USD using that conversion factor. Return both the conversion factor and the converted amount.', additional_kwargs={}, response_metadata={}),\n",
              " AIMessage(content='', additional_kwargs={'function_call': {'name': 'get_conversion_factor', 'arguments': '{\"target_currency\": \"USD\", \"base_currency\": \"BDT\"}'}}, response_metadata={'prompt_feedback': {'block_reason': 0, 'safety_ratings': []}, 'finish_reason': 'STOP', 'model_name': 'gemini-2.5-flash', 'safety_ratings': []}, id='run--eb8feeee-3a89-4c46-b952-14cd13ad88d5-0', tool_calls=[{'name': 'get_conversion_factor', 'args': {'target_currency': 'USD', 'base_currency': 'BDT'}, 'id': '494af291-4beb-41a9-b169-7a3a04879e21', 'type': 'tool_call'}], usage_metadata={'input_tokens': 177, 'output_tokens': 153, 'total_tokens': 330, 'input_token_details': {'cache_read': 0}, 'output_token_details': {'reasoning': 127}}),\n",
              " ToolMessage(content='{\"result\": \"success\", \"documentation\": \"https://www.exchangerate-api.com/docs\", \"terms_of_use\": \"https://www.exchangerate-api.com/terms\", \"time_last_update_unix\": 1759968002, \"time_last_update_utc\": \"Thu, 09 Oct 2025 00:00:02 +0000\", \"time_next_update_unix\": 1760054402, \"time_next_update_utc\": \"Fri, 10 Oct 2025 00:00:02 +0000\", \"base_code\": \"BDT\", \"target_code\": \"USD\", \"conversion_rate\": 0.008216}', name='get_conversion_factor', tool_call_id='494af291-4beb-41a9-b169-7a3a04879e21')]"
            ]
          },
          "metadata": {},
          "execution_count": 328
        }
      ]
    },
    {
      "cell_type": "code",
      "source": [
        "ai_message = llm_with_tools.invoke(messages)"
      ],
      "metadata": {
        "id": "Nit6VQf8Xo0A"
      },
      "execution_count": 329,
      "outputs": []
    },
    {
      "cell_type": "code",
      "source": [
        "ai_message"
      ],
      "metadata": {
        "colab": {
          "base_uri": "https://localhost:8080/"
        },
        "id": "Gb7eH0fpsVqI",
        "outputId": "130f49f0-81e3-40c6-c47a-fc75eb053054"
      },
      "execution_count": 330,
      "outputs": [
        {
          "output_type": "execute_result",
          "data": {
            "text/plain": [
              "AIMessage(content='', additional_kwargs={'function_call': {'name': 'convert', 'arguments': '{\"base_currency_value\": 10}'}}, response_metadata={'prompt_feedback': {'block_reason': 0, 'safety_ratings': []}, 'finish_reason': 'STOP', 'model_name': 'gemini-2.5-flash', 'safety_ratings': []}, id='run--13fe745b-6518-4a13-a66a-f73e2cccfa12-0', tool_calls=[{'name': 'convert', 'args': {'base_currency_value': 10}, 'id': '744eb7d2-871a-49ce-bfda-bae0746cec2d', 'type': 'tool_call'}], usage_metadata={'input_tokens': 405, 'output_tokens': 1067, 'total_tokens': 1472, 'input_token_details': {'cache_read': 0}, 'output_token_details': {'reasoning': 1049}})"
            ]
          },
          "metadata": {},
          "execution_count": 330
        }
      ]
    },
    {
      "cell_type": "code",
      "source": [
        "ai_message.tool_calls"
      ],
      "metadata": {
        "colab": {
          "base_uri": "https://localhost:8080/"
        },
        "id": "FDjPnJh-sYmX",
        "outputId": "c260d0fe-0332-436c-e551-6ac1865f8452"
      },
      "execution_count": 331,
      "outputs": [
        {
          "output_type": "execute_result",
          "data": {
            "text/plain": [
              "[{'name': 'convert',\n",
              "  'args': {'base_currency_value': 10},\n",
              "  'id': '744eb7d2-871a-49ce-bfda-bae0746cec2d',\n",
              "  'type': 'tool_call'}]"
            ]
          },
          "metadata": {},
          "execution_count": 331
        }
      ]
    },
    {
      "cell_type": "code",
      "source": [
        "ai_message.tool_calls[0]"
      ],
      "metadata": {
        "colab": {
          "base_uri": "https://localhost:8080/"
        },
        "id": "fNk-O6Arsdeu",
        "outputId": "03a8bcfd-6bac-4676-9e90-1b686b69fd0e"
      },
      "execution_count": 332,
      "outputs": [
        {
          "output_type": "execute_result",
          "data": {
            "text/plain": [
              "{'name': 'convert',\n",
              " 'args': {'base_currency_value': 10},\n",
              " 'id': '744eb7d2-871a-49ce-bfda-bae0746cec2d',\n",
              " 'type': 'tool_call'}"
            ]
          },
          "metadata": {},
          "execution_count": 332
        }
      ]
    },
    {
      "cell_type": "code",
      "source": [
        "for tool_call in ai_message.tool_calls:\n",
        "  # execute the 1st tool and get the value of conversion rate\n",
        "  if tool_call['name'] == 'convert':\n",
        "    tool_call['args']['conversion_rate'] = conversion_rate\n",
        "    tool_message2 = convert.invoke(tool_call)\n",
        "    # append this tool message to messages list\n",
        "    messages.append(tool_message2)\n",
        "\n"
      ],
      "metadata": {
        "id": "5_-z4JCDsiTn"
      },
      "execution_count": 333,
      "outputs": []
    },
    {
      "cell_type": "code",
      "source": [
        "messages"
      ],
      "metadata": {
        "colab": {
          "base_uri": "https://localhost:8080/"
        },
        "id": "2905aGKNtWsn",
        "outputId": "fc82ca8c-e827-41f9-bd55-6df3507ca3eb"
      },
      "execution_count": 334,
      "outputs": [
        {
          "output_type": "execute_result",
          "data": {
            "text/plain": [
              "[HumanMessage(content='First, use the get_conversion_factor tool to find the conversion factor between BDT and USD. Then, use the convert tool to convert 10 BDT to USD using that conversion factor. Return both the conversion factor and the converted amount.', additional_kwargs={}, response_metadata={}),\n",
              " AIMessage(content='', additional_kwargs={'function_call': {'name': 'get_conversion_factor', 'arguments': '{\"target_currency\": \"USD\", \"base_currency\": \"BDT\"}'}}, response_metadata={'prompt_feedback': {'block_reason': 0, 'safety_ratings': []}, 'finish_reason': 'STOP', 'model_name': 'gemini-2.5-flash', 'safety_ratings': []}, id='run--eb8feeee-3a89-4c46-b952-14cd13ad88d5-0', tool_calls=[{'name': 'get_conversion_factor', 'args': {'target_currency': 'USD', 'base_currency': 'BDT'}, 'id': '494af291-4beb-41a9-b169-7a3a04879e21', 'type': 'tool_call'}], usage_metadata={'input_tokens': 177, 'output_tokens': 153, 'total_tokens': 330, 'input_token_details': {'cache_read': 0}, 'output_token_details': {'reasoning': 127}}),\n",
              " ToolMessage(content='{\"result\": \"success\", \"documentation\": \"https://www.exchangerate-api.com/docs\", \"terms_of_use\": \"https://www.exchangerate-api.com/terms\", \"time_last_update_unix\": 1759968002, \"time_last_update_utc\": \"Thu, 09 Oct 2025 00:00:02 +0000\", \"time_next_update_unix\": 1760054402, \"time_next_update_utc\": \"Fri, 10 Oct 2025 00:00:02 +0000\", \"base_code\": \"BDT\", \"target_code\": \"USD\", \"conversion_rate\": 0.008216}', name='get_conversion_factor', tool_call_id='494af291-4beb-41a9-b169-7a3a04879e21'),\n",
              " ToolMessage(content='0.08216', name='convert', tool_call_id='744eb7d2-871a-49ce-bfda-bae0746cec2d')]"
            ]
          },
          "metadata": {},
          "execution_count": 334
        }
      ]
    },
    {
      "cell_type": "markdown",
      "source": [
        "# Tool Execution"
      ],
      "metadata": {
        "id": "HQB-PHfUuQ63"
      }
    },
    {
      "cell_type": "code",
      "source": [
        "llm_with_tools.invoke(messages)"
      ],
      "metadata": {
        "colab": {
          "base_uri": "https://localhost:8080/"
        },
        "id": "z2J5blxmtbZ3",
        "outputId": "6c2e6b54-6b44-4d62-dfb9-cfee5038c7d0"
      },
      "execution_count": 335,
      "outputs": [
        {
          "output_type": "execute_result",
          "data": {
            "text/plain": [
              "AIMessage(content='', additional_kwargs={'function_call': {'name': 'convert', 'arguments': '{\"base_currency_value\": 10}'}}, response_metadata={'prompt_feedback': {'block_reason': 0, 'safety_ratings': []}, 'finish_reason': 'STOP', 'model_name': 'gemini-2.5-flash', 'safety_ratings': []}, id='run--0215d2dd-3bed-4d96-afdb-12f7c50d2eba-0', tool_calls=[{'name': 'convert', 'args': {'base_currency_value': 10}, 'id': '68def5e0-c796-4b4b-a935-387075cd9660', 'type': 'tool_call'}], usage_metadata={'input_tokens': 405, 'output_tokens': 365, 'total_tokens': 770, 'input_token_details': {'cache_read': 0}, 'output_token_details': {'reasoning': 347}})"
            ]
          },
          "metadata": {},
          "execution_count": 335
        }
      ]
    },
    {
      "cell_type": "code",
      "source": [
        "llm_with_tools.invoke(messages).content"
      ],
      "metadata": {
        "colab": {
          "base_uri": "https://localhost:8080/",
          "height": 35
        },
        "id": "WteitkkztmVT",
        "outputId": "46caa742-5211-4d36-a919-bd4413b886c0"
      },
      "execution_count": 336,
      "outputs": [
        {
          "output_type": "execute_result",
          "data": {
            "text/plain": [
              "'The conversion factor from BDT to USD is 0.008216.\\n10 BDT is equal to 0.08216 USD.'"
            ],
            "application/vnd.google.colaboratory.intrinsic+json": {
              "type": "string"
            }
          },
          "metadata": {},
          "execution_count": 336
        }
      ]
    },
    {
      "cell_type": "markdown",
      "source": [
        "# Actual Agents"
      ],
      "metadata": {
        "id": "NGTvePCxuu2h"
      }
    },
    {
      "cell_type": "code",
      "source": [
        "from langchain.agents import initialize_agent, AgentType\n",
        "\n",
        "# Step 5: Initialize the Agent ---\n",
        "agent_executor = initialize_agent(\n",
        "    tools=[get_conversion_factor, convert],\n",
        "    llm=llm,\n",
        "    agent=AgentType.STRUCTURED_CHAT_ZERO_SHOT_REACT_DESCRIPTION,  # using ReAct pattern\n",
        "    verbose=True  # shows internal thinking\n",
        ")"
      ],
      "metadata": {
        "id": "qS59eqAbX-9d"
      },
      "execution_count": 339,
      "outputs": []
    },
    {
      "cell_type": "code",
      "source": [
        "# --- Step 6: Run the Agent ---\n",
        "user_query = \"convert 10 bdt to usd\"\n",
        "response = agent_executor.invoke({\"input\": user_query})"
      ],
      "metadata": {
        "colab": {
          "base_uri": "https://localhost:8080/"
        },
        "id": "GcZBabKrTraN",
        "outputId": "09a479ee-003d-4610-82ca-0d545e1f0f33"
      },
      "execution_count": 341,
      "outputs": [
        {
          "output_type": "stream",
          "name": "stdout",
          "text": [
            "\n",
            "\n",
            "\u001b[1m> Entering new AgentExecutor chain...\u001b[0m\n",
            "\u001b[32;1m\u001b[1;3mThought: The user wants to convert 10 BDT to USD. I need to first get the conversion factor between BDT and USD, and then use that factor to convert the amount.\n",
            "Action:\n",
            "```\n",
            "{\n",
            "  \"action\": \"get_conversion_factor\",\n",
            "  \"action_input\": {\n",
            "    \"base_currency\": \"BDT\",\n",
            "    \"target_currency\": \"USD\"\n",
            "  }\n",
            "}\n",
            "```\u001b[0m\n",
            "Observation: \u001b[36;1m\u001b[1;3m{'result': 'success', 'documentation': 'https://www.exchangerate-api.com/docs', 'terms_of_use': 'https://www.exchangerate-api.com/terms', 'time_last_update_unix': 1759968002, 'time_last_update_utc': 'Thu, 09 Oct 2025 00:00:02 +0000', 'time_next_update_unix': 1760054402, 'time_next_update_utc': 'Fri, 10 Oct 2025 00:00:02 +0000', 'base_code': 'BDT', 'target_code': 'USD', 'conversion_rate': 0.008216}\u001b[0m\n",
            "Thought:\u001b[32;1m\u001b[1;3mAction:\n",
            "```\n",
            "{\n",
            "  \"action\": \"convert\",\n",
            "  \"action_input\": {\n",
            "    \"base_currency_value\": 10,\n",
            "    \"conversion_rate\": 0.008216\n",
            "  }\n",
            "}\n",
            "```\u001b[0m\n",
            "Observation: \u001b[33;1m\u001b[1;3m0.08216\u001b[0m\n",
            "Thought:\u001b[32;1m\u001b[1;3mThe previous tool execution successfully converted 10 BDT to 0.08216 USD. I can now provide the final answer.\n",
            "Action:\n",
            "```\n",
            "{\n",
            "  \"action\": \"Final Answer\",\n",
            "  \"action_input\": \"10 BDT is equal to 0.08216 USD.\"\n",
            "}\n",
            "```\u001b[0m\n",
            "\n",
            "\u001b[1m> Finished chain.\u001b[0m\n"
          ]
        }
      ]
    },
    {
      "cell_type": "code",
      "source": [],
      "metadata": {
        "id": "-9DcXChmUqwY"
      },
      "execution_count": 338,
      "outputs": []
    }
  ]
}