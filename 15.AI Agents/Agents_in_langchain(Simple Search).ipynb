{
  "cells": [
    {
      "cell_type": "code",
      "execution_count": 4,
      "metadata": {
        "id": "t_auBTtxdIqp"
      },
      "outputs": [],
      "source": [
        "!pip install -q langchain_google_genai langchain-community langchain-core requests duckduckgo-search"
      ]
    },
    {
      "cell_type": "code",
      "execution_count": 2,
      "metadata": {
        "id": "JRG8AtkSdLM3"
      },
      "outputs": [],
      "source": [
        "from langchain_google_genai import ChatGoogleGenerativeAI\n",
        "from langchain_core.tools import tool\n",
        "from langchain_core.messages import HumanMessage, ToolMessage\n",
        "import requests"
      ]
    },
    {
      "cell_type": "code",
      "execution_count": 5,
      "metadata": {
        "id": "NsrutbosMeXn"
      },
      "outputs": [],
      "source": [
        "from google.colab import userdata\n",
        "gemini_api_key = userdata.get('GEMINI_API_KEY')"
      ]
    },
    {
      "cell_type": "code",
      "execution_count": 6,
      "metadata": {
        "id": "T0dbEXKdQrA9"
      },
      "outputs": [],
      "source": [
        "from google.colab import userdata\n",
        "weather_api_key = userdata.get('WEATHER_API_KEY')"
      ]
    },
    {
      "cell_type": "code",
      "execution_count": null,
      "metadata": {
        "colab": {
          "base_uri": "https://localhost:8080/"
        },
        "id": "U7RcvCMcMtLQ",
        "outputId": "0d7e4901-0070-4f22-bd62-76c4c25a6f45"
      },
      "outputs": [],
      "source": [
        "!pip install -U ddgs"
      ]
    },
    {
      "cell_type": "code",
      "execution_count": 8,
      "metadata": {
        "id": "-F_IXJLikwHO"
      },
      "outputs": [],
      "source": [
        "from langchain_community.tools import DuckDuckGoSearchRun\n",
        "\n",
        "search_tool = DuckDuckGoSearchRun()"
      ]
    },
    {
      "cell_type": "code",
      "execution_count": 9,
      "metadata": {
        "id": "cydysqWUNGco"
      },
      "outputs": [],
      "source": [
        "results = search_tool.invoke(\"Top Internation news Today\")"
      ]
    },
    {
      "cell_type": "code",
      "execution_count": 10,
      "metadata": {
        "colab": {
          "base_uri": "https://localhost:8080/",
          "height": 104
        },
        "id": "foDEovqANOzW",
        "outputId": "4cf2b447-4410-4902-c9cf-858de3c05646"
      },
      "outputs": [
        {
          "data": {
            "application/vnd.google.colaboratory.intrinsic+json": {
              "type": "string"
            },
            "text/plain": [
              "\"3 weeks ago - Listed below are other news channels aimed specifically at an international audience: ... US: Voice of America, CurrentTime TV(Russian), Alhurra (Arabic), TV Martí (Spanish) Bloomberg Television · India: NDTV 24x7, India Today , Mirror Now, NewsX, Republic World, Times Now Get the latest international news and world events from Asia, Europe, the Middle East, and more. See world news photos and videos at ABCNews.com Follow the latest international and world news , breaking stories and global current events from your trusted online news source. Movie review: 'Tron: Ares' falls back on derivative plot, themes Jane Goodall Institute vows to carry on its mission after her death U.S. News NPR world news , international art and culture, world business and financial markets, world economy, and global trends in health, science and technology. Subscribe to the World Story of the Day ...\""
            ]
          },
          "execution_count": 10,
          "metadata": {},
          "output_type": "execute_result"
        }
      ],
      "source": [
        "results"
      ]
    },
    {
      "cell_type": "code",
      "execution_count": 11,
      "metadata": {
        "id": "LSBEXlq3llWG"
      },
      "outputs": [],
      "source": [
        "llm =ChatGoogleGenerativeAI(\n",
        "    model=\"gemini-2.5-flash\",\n",
        "    google_api_key=gemini_api_key\n",
        ")"
      ]
    },
    {
      "cell_type": "code",
      "execution_count": 12,
      "metadata": {
        "colab": {
          "base_uri": "https://localhost:8080/"
        },
        "id": "QwCQbqfuN4hF",
        "outputId": "36fc91ea-dc90-409a-ccb6-4010bb906b94"
      },
      "outputs": [
        {
          "data": {
            "text/plain": [
              "AIMessage(content='Hi there! How can I help you today?', additional_kwargs={}, response_metadata={'prompt_feedback': {'block_reason': 0, 'safety_ratings': []}, 'finish_reason': 'STOP', 'model_name': 'gemini-2.5-flash', 'safety_ratings': []}, id='run--9db612a1-5327-4cc7-88b4-c5cf6b794559-0', usage_metadata={'input_tokens': 2, 'output_tokens': 221, 'total_tokens': 223, 'input_token_details': {'cache_read': 0}, 'output_token_details': {'reasoning': 211}})"
            ]
          },
          "execution_count": 12,
          "metadata": {},
          "output_type": "execute_result"
        }
      ],
      "source": [
        "llm.invoke(\"Hi\")"
      ]
    },
    {
      "cell_type": "code",
      "execution_count": 15,
      "metadata": {
        "id": "Nogn9zL4RFIV"
      },
      "outputs": [],
      "source": [
        "@tool\n",
        "def get_weather_data(city: str) -> str:\n",
        "  \"\"\"\n",
        "  This function fetches the current weather data for a given city\n",
        "  \"\"\"\n",
        "  url = f'https://api.weatherstack.com/current?access_key={weather_api_key}&query={city}'\n",
        "\n",
        "  response = requests.get(url)\n",
        "\n",
        "  return response.json()"
      ]
    },
    {
      "cell_type": "code",
      "execution_count": 16,
      "metadata": {
        "colab": {
          "base_uri": "https://localhost:8080/"
        },
        "id": "iO2s7SxqRLtT",
        "outputId": "e5277fd4-acce-4515-c8d1-8c9c77086e80"
      },
      "outputs": [
        {
          "name": "stderr",
          "output_type": "stream",
          "text": [
            "/tmp/ipython-input-3699642282.py:1: LangChainDeprecationWarning: The method `BaseTool.__call__` was deprecated in langchain-core 0.1.47 and will be removed in 1.0. Use :meth:`~invoke` instead.\n",
            "  get_weather_data(\"Dhaka\")\n"
          ]
        },
        {
          "data": {
            "text/plain": [
              "{'request': {'type': 'City',\n",
              "  'query': 'Dhaka, Bangladesh',\n",
              "  'language': 'en',\n",
              "  'unit': 'm'},\n",
              " 'location': {'name': 'Dhaka',\n",
              "  'country': 'Bangladesh',\n",
              "  'region': '',\n",
              "  'lat': '23.723',\n",
              "  'lon': '90.409',\n",
              "  'timezone_id': 'Asia/Dhaka',\n",
              "  'localtime': '2025-10-09 20:03',\n",
              "  'localtime_epoch': 1760040180,\n",
              "  'utc_offset': '6.0'},\n",
              " 'current': {'observation_time': '02:03 PM',\n",
              "  'temperature': 29,\n",
              "  'weather_code': 116,\n",
              "  'weather_icons': ['https://cdn.worldweatheronline.com/images/wsymbols01_png_64/wsymbol_0004_black_low_cloud.png'],\n",
              "  'weather_descriptions': ['Partly Cloudy '],\n",
              "  'astro': {'sunrise': '05:53 AM',\n",
              "   'sunset': '05:38 PM',\n",
              "   'moonrise': '07:09 PM',\n",
              "   'moonset': '07:59 AM',\n",
              "   'moon_phase': 'Waning Gibbous',\n",
              "   'moon_illumination': 95},\n",
              "  'air_quality': {'co': '306.85',\n",
              "   'no2': '7.35',\n",
              "   'o3': '158',\n",
              "   'so2': '21.05',\n",
              "   'pm2_5': '21.15',\n",
              "   'pm10': '21.45',\n",
              "   'us-epa-index': '2',\n",
              "   'gb-defra-index': '2'},\n",
              "  'wind_speed': 4,\n",
              "  'wind_degree': 7,\n",
              "  'wind_dir': 'N',\n",
              "  'pressure': 1009,\n",
              "  'precip': 0,\n",
              "  'humidity': 70,\n",
              "  'cloudcover': 31,\n",
              "  'feelslike': 32,\n",
              "  'uv_index': 0,\n",
              "  'visibility': 10,\n",
              "  'is_day': 'no'}}"
            ]
          },
          "execution_count": 16,
          "metadata": {},
          "output_type": "execute_result"
        }
      ],
      "source": [
        "get_weather_data(\"Dhaka\")"
      ]
    },
    {
      "cell_type": "code",
      "execution_count": 17,
      "metadata": {
        "id": "bc2DyvkCOGRv"
      },
      "outputs": [],
      "source": [
        "from langchain.agents import create_react_agent, AgentExecutor\n",
        "from langchain import hub"
      ]
    },
    {
      "cell_type": "code",
      "execution_count": 18,
      "metadata": {
        "id": "3EQEnHyaOLbQ"
      },
      "outputs": [],
      "source": [
        "# Step 2: Pull the ReAct prompt from LangChain Hub\n",
        "prompt = hub.pull(\"hwchase17/react\")  # pulls the standard ReAct agent prompt"
      ]
    },
    {
      "cell_type": "code",
      "execution_count": 19,
      "metadata": {
        "id": "mZaWK7nCOQKu"
      },
      "outputs": [],
      "source": [
        "# Step 3: Create the ReAct agent manually with the pulled prompt\n",
        "agent = create_react_agent(\n",
        "    llm=llm,\n",
        "    tools=[search_tool, get_weather_data],\n",
        "    prompt=prompt\n",
        ")"
      ]
    },
    {
      "cell_type": "code",
      "execution_count": 20,
      "metadata": {
        "id": "n9-TPtwDOZ-j"
      },
      "outputs": [],
      "source": [
        "# Step 4: Wrap it with AgentExecutor\n",
        "agent_executor = AgentExecutor(\n",
        "    agent=agent,\n",
        "    tools=[search_tool, get_weather_data],\n",
        "    verbose=True\n",
        ")"
      ]
    },
    {
      "cell_type": "code",
      "execution_count": 23,
      "metadata": {
        "colab": {
          "base_uri": "https://localhost:8080/"
        },
        "id": "4731_FTsYsJT",
        "outputId": "42722db3-c320-4460-8e5d-81287998a1eb"
      },
      "outputs": [
        {
          "name": "stdout",
          "output_type": "stream",
          "text": [
            "\n",
            "\n",
            "\u001b[1m> Entering new AgentExecutor chain...\u001b[0m\n",
            "\u001b[32;1m\u001b[1;3mAction: duckduckgo_search\n",
            "Action Input: capital of Bangladesh\u001b[0m\u001b[36;1m\u001b[1;3mFrom Wikipedia, the free encyclopedia. Capital and largest city of Bangladesh . This article is about the capital city. Bangladesh , [a] officially the People's Republic of Bangladesh , [b] is a country in South Asia. It is the eighth-most populous country in the world and among the most densely populated with a population of over 171 million within an area of 148,460 square kilometres (57,320 sq mi). Exact time now, time zone, time difference, sunrise/sunset time and key facts for Dhaka, Bangladesh .Dhaka is the capital of Bangladesh . Latitude: 23.71. Longitude: 90.41. Bangladesh is a country in Asia, known for the Sundarbans mangroves and Bengal Delta. It has a population of 175.7 million, making it the 8th largest country in the world. Provides an overview of Bangladesh , including key dates and facts about this South Asian nation.People's republic of bangladesh : facts. Capital : Dhaka. Area: 148,460 sq km.\u001b[0m\u001b[32;1m\u001b[1;3mThe capital of Bangladesh is Dhaka. Now I need to find the weather of Dhaka.\n",
            "Action: get_weather_data\n",
            "Action Input: Dhaka\u001b[0m\u001b[33;1m\u001b[1;3m{'request': {'type': 'City', 'query': 'Dhaka, Bangladesh', 'language': 'en', 'unit': 'm'}, 'location': {'name': 'Dhaka', 'country': 'Bangladesh', 'region': '', 'lat': '23.723', 'lon': '90.409', 'timezone_id': 'Asia/Dhaka', 'localtime': '2025-10-09 20:03', 'localtime_epoch': 1760040180, 'utc_offset': '6.0'}, 'current': {'observation_time': '02:03 PM', 'temperature': 29, 'weather_code': 116, 'weather_icons': ['https://cdn.worldweatheronline.com/images/wsymbols01_png_64/wsymbol_0004_black_low_cloud.png'], 'weather_descriptions': ['Partly Cloudy '], 'astro': {'sunrise': '05:53 AM', 'sunset': '05:38 PM', 'moonrise': '07:09 PM', 'moonset': '07:59 AM', 'moon_phase': 'Waning Gibbous', 'moon_illumination': 95}, 'air_quality': {'co': '306.85', 'no2': '7.35', 'o3': '158', 'so2': '21.05', 'pm2_5': '21.15', 'pm10': '21.45', 'us-epa-index': '2', 'gb-defra-index': '2'}, 'wind_speed': 4, 'wind_degree': 7, 'wind_dir': 'N', 'pressure': 1009, 'precip': 0, 'humidity': 70, 'cloudcover': 31, 'feelslike': 32, 'uv_index': 0, 'visibility': 10, 'is_day': 'no'}}\u001b[0m\u001b[32;1m\u001b[1;3mI now know the final answer\n",
            "Final Answer: The capital of Bangladesh is Dhaka. The current weather in Dhaka is Partly Cloudy with a temperature of 29°C, but it feels like 32°C. The wind speed is 4 km/h from the North, and the humidity is 70%.\u001b[0m\n",
            "\n",
            "\u001b[1m> Finished chain.\u001b[0m\n",
            "{'input': 'Find the capital of Bangladesh and Then tell me weather of this city', 'output': 'The capital of Bangladesh is Dhaka. The current weather in Dhaka is Partly Cloudy with a temperature of 29°C, but it feels like 32°C. The wind speed is 4 km/h from the North, and the humidity is 70%.'}\n"
          ]
        }
      ],
      "source": [
        "# Step 5: Invoke\n",
        "response = agent_executor.invoke({\"input\": \"Find the capital of Bangladesh and Then tell me weather of this city\"})\n",
        "print(response)"
      ]
    },
    {
      "cell_type": "code",
      "execution_count": 24,
      "metadata": {
        "colab": {
          "base_uri": "https://localhost:8080/",
          "height": 52
        },
        "id": "dISl6fzqZKfU",
        "outputId": "344621ec-8e44-4437-d26d-91434b46adc3"
      },
      "outputs": [
        {
          "data": {
            "application/vnd.google.colaboratory.intrinsic+json": {
              "type": "string"
            },
            "text/plain": [
              "'The capital of Bangladesh is Dhaka. The current weather in Dhaka is Partly Cloudy with a temperature of 29°C, but it feels like 32°C. The wind speed is 4 km/h from the North, and the humidity is 70%.'"
            ]
          },
          "execution_count": 24,
          "metadata": {},
          "output_type": "execute_result"
        }
      ],
      "source": [
        "response['output']"
      ]
    }
  ],
  "metadata": {
    "colab": {
      "provenance": []
    },
    "kernelspec": {
      "display_name": "Python 3",
      "name": "python3"
    },
    "language_info": {
      "name": "python"
    }
  },
  "nbformat": 4,
  "nbformat_minor": 0
}
